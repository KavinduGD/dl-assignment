{
 "cells": [
  {
   "cell_type": "markdown",
   "id": "43649217-035b-46fb-984e-5dd6c3fc8d7d",
   "metadata": {},
   "source": [
    "## Importing Required Dependencies"
   ]
  },
  {
   "cell_type": "code",
   "execution_count": 218,
   "id": "155aee20-9080-4b64-b912-b281be0740e9",
   "metadata": {},
   "outputs": [],
   "source": [
    "import numpy as np\n",
    "import pandas as pd\n",
    "from tqdm import tqdm\n",
    "import os\n",
    "import matplotlib.pyplot as plt\n",
    "import IPython.display as ipd\n",
    "import librosa\n",
    "import librosa.display\n",
    "%matplotlib inline\n",
    "from imblearn.combine import SMOTEENN\n",
    "from imblearn.over_sampling import SMOTE\n",
    "from collections import Counter\n",
    "from sklearn.model_selection import train_test_split"
   ]
  },
  {
   "cell_type": "markdown",
   "id": "75d169b4-7c71-425d-ad5b-da5e60079109",
   "metadata": {},
   "source": [
    "## Dataset Preparation"
   ]
  },
  {
   "cell_type": "markdown",
   "id": "4dabcc0a-9c5f-4a46-b864-f3ede089eae7",
   "metadata": {},
   "source": [
    "###  Load and Prepare Data"
   ]
  },
  {
   "cell_type": "code",
   "execution_count": 189,
   "id": "df9f501f-73b4-4ddd-b8a8-b4f0485c5924",
   "metadata": {},
   "outputs": [],
   "source": [
    "my_df=pd.read_csv('./data.csv')"
   ]
  },
  {
   "cell_type": "code",
   "execution_count": 190,
   "id": "a3e6d15a-c7c4-49d9-b5c4-d9a0ae084f7a",
   "metadata": {},
   "outputs": [],
   "source": [
    "X = my_df.drop(columns=['label']).values\n",
    "y = my_df['label'].values"
   ]
  },
  {
   "cell_type": "markdown",
   "id": "2b6c0297-185f-41a8-9d37-8ca58d99fc1d",
   "metadata": {},
   "source": [
    "### One-Hot Encoding"
   ]
  },
  {
   "cell_type": "code",
   "execution_count": 194,
   "id": "62875edf-1b93-4747-8068-b087a9467b31",
   "metadata": {},
   "outputs": [],
   "source": [
    "y=np.array(pd.get_dummies(y,dtype=int))"
   ]
  },
  {
   "cell_type": "markdown",
   "id": "bcb55291-ae87-4f05-adce-82ce271349a4",
   "metadata": {},
   "source": [
    "### SMOTE for Balanced Sampling"
   ]
  },
  {
   "cell_type": "code",
   "execution_count": 198,
   "id": "d14e7ff7-07df-477d-a06f-9dde09db5e6b",
   "metadata": {},
   "outputs": [
    {
     "name": "stdout",
     "output_type": "stream",
     "text": [
      "Class distribution after resampling:\n",
      " Counter({3: 1000, 2: 1000, 1: 1000, 0: 1000, 9: 1000, 6: 1000, 8: 1000, 5: 1000, 7: 1000, 4: 1000})\n"
     ]
    }
   ],
   "source": [
    "# Assuming X and y are your features and target labels\n",
    "smote = SMOTE(random_state=0)\n",
    "X_resampled, y_resampled = smote.fit_resample(X, y)\n",
    "\n",
    "# Convert one-hot encoded labels back to class labels\n",
    "y_resampled_labels = np.argmax(y_resampled, axis=1)\n",
    "\n",
    "# Check the distribution of data after resampling\n",
    "counter = Counter(y_resampled_labels)\n",
    "print(\"Class distribution after resampling:\\n\", counter)"
   ]
  },
  {
   "cell_type": "markdown",
   "id": "382de1c6-a36d-4cb7-b85d-900505ae63ec",
   "metadata": {},
   "source": [
    "### Data Split"
   ]
  },
  {
   "cell_type": "code",
   "execution_count": 199,
   "id": "b01bbcd6-017e-488e-a88d-74b4bdca301e",
   "metadata": {},
   "outputs": [],
   "source": [
    "X_train,X_test,y_train,y_test=train_test_split(X_resampled, y_resampled,test_size=0.2,random_state=0)"
   ]
  },
  {
   "cell_type": "markdown",
   "id": "47da9501-bcf0-4743-9508-b181a9df2a92",
   "metadata": {},
   "source": [
    "### Scaling"
   ]
  },
  {
   "cell_type": "code",
   "execution_count": 200,
   "id": "90945778-a8c9-4bf4-a68a-88721bf56c02",
   "metadata": {},
   "outputs": [
    {
     "data": {
      "text/plain": [
       "['standard_scaler_cnn_1d.pkl']"
      ]
     },
     "execution_count": 200,
     "metadata": {},
     "output_type": "execute_result"
    }
   ],
   "source": [
    "from sklearn.preprocessing import StandardScaler\n",
    "import joblib\n",
    "\n",
    "scaler = StandardScaler()\n",
    "\n",
    "X_train = scaler.fit_transform(X_train)\n",
    "X_test = scaler.transform(X_test)\n",
    "\n",
    "joblib.dump(scaler, 'standard_scaler_cnn_1d.pkl')"
   ]
  },
  {
   "cell_type": "code",
   "execution_count": null,
   "id": "20821cf7-043d-446e-a3f0-519ae595e6b9",
   "metadata": {},
   "outputs": [],
   "source": [
    "num_labels=10"
   ]
  },
  {
   "cell_type": "markdown",
   "id": "8121fcd3-9223-4387-8459-ece66caa047d",
   "metadata": {},
   "source": [
    "## Hyperparameter Tuning"
   ]
  },
  {
   "cell_type": "markdown",
   "id": "56d90544-bc84-41c3-b52e-d45b67e71f7d",
   "metadata": {},
   "source": [
    "### Function build_model\n"
   ]
  },
  {
   "cell_type": "code",
   "execution_count": 202,
   "id": "fab219e1-e020-4845-aeaa-aeadaf8533fc",
   "metadata": {},
   "outputs": [],
   "source": [
    "from tensorflow.keras.models import Sequential\n",
    "from tensorflow.keras.layers import Conv1D, MaxPooling1D, Flatten, Dense, Dropout\n",
    "from tensorflow.keras.callbacks import EarlyStopping\n",
    "import tensorflow as tf"
   ]
  },
  {
   "cell_type": "code",
   "execution_count": 203,
   "id": "c1884ad3-7e23-4e28-9dac-0a0e2a8d4e8c",
   "metadata": {},
   "outputs": [],
   "source": [
    "def build_cnn_model(hp):\n",
    "    model = Sequential()\n",
    "    model.add(Conv1D(\n",
    "        filters=hp.Int('filters_1', min_value=32, max_value=128, step=32),\n",
    "        kernel_size=hp.Choice('kernel_size_1', values=[3, 5]),\n",
    "        activation=hp.Choice('activation_1', values=['relu', 'tanh']),\n",
    "        input_shape=(X_train.shape[1], 1)\n",
    "    ))\n",
    "    model.add(MaxPooling1D(pool_size=hp.Choice('pool_size_1', values=[2, 3])))\n",
    "    \n",
    "    model.add(Conv1D(\n",
    "        filters=hp.Int('filters_2', min_value=64, max_value=256, step=64),\n",
    "        kernel_size=hp.Choice('kernel_size_2', values=[3, 5]),\n",
    "        activation=hp.Choice('activation_2', values=['relu', 'tanh'])\n",
    "    ))\n",
    "    model.add(MaxPooling1D(pool_size=hp.Choice('pool_size_2', values=[2, 3])))\n",
    "    \n",
    "    model.add(Flatten())\n",
    "    model.add(Dense(\n",
    "        units=hp.Int('units', min_value=128, max_value=512, step=64),\n",
    "        activation=hp.Choice('activation_dense', values=['relu', 'tanh'])\n",
    "    ))\n",
    "    model.add(Dropout(hp.Float('dropout', min_value=0.2, max_value=0.5, step=0.1)))\n",
    "\n",
    "    model.add(Dense(y_train.shape[1], activation='softmax'))\n",
    "    \n",
    "    model.compile(optimizer=tf.keras.optimizers.Adam(\n",
    "                     hp.Choice('learning_rate', values=[1e-2, 1e-3, 1e-4])),\n",
    "                  loss='categorical_crossentropy',\n",
    "                  metrics=['accuracy'])\n",
    "    \n",
    "    return model\n"
   ]
  },
  {
   "cell_type": "code",
   "execution_count": 206,
   "id": "e66519b0-ab96-4d0c-a086-9f8b4f80d878",
   "metadata": {},
   "outputs": [
    {
     "name": "stdout",
     "output_type": "stream",
     "text": [
      "Reloading Tuner from cnn_tuner_dir/cnn_audio_classification_50/tuner0.json\n",
      "Best hyperparameters for 50 epochs: {'filters_1': 32, 'kernel_size_1': 3, 'activation_1': 'relu', 'pool_size_1': 2, 'filters_2': 192, 'kernel_size_2': 5, 'activation_2': 'relu', 'pool_size_2': 2, 'units': 320, 'activation_dense': 'relu', 'dropout': 0.2, 'learning_rate': 0.0001}\n",
      "Reloading Tuner from cnn_tuner_dir/cnn_audio_classification_100/tuner0.json\n",
      "Best hyperparameters for 100 epochs: {'filters_1': 64, 'kernel_size_1': 3, 'activation_1': 'relu', 'pool_size_1': 2, 'filters_2': 192, 'kernel_size_2': 3, 'activation_2': 'tanh', 'pool_size_2': 2, 'units': 512, 'activation_dense': 'relu', 'dropout': 0.30000000000000004, 'learning_rate': 0.001}\n"
     ]
    }
   ],
   "source": [
    "# Early stopping to avoid overfitting\n",
    "early_stopping = EarlyStopping(monitor='val_loss', patience=5, restore_best_weights=True)\n",
    "\n",
    "# List of possible epochs to try\n",
    "possible_epochs = [50, 100]\n",
    "\n",
    "# Loop through each epoch count in the list\n",
    "for epoch_count in possible_epochs:\n",
    "    # Initialize the tuner with the CNN model\n",
    "    tuner = kt.RandomSearch(\n",
    "        build_cnn_model,\n",
    "        objective='val_accuracy',\n",
    "        max_trials=10,\n",
    "        executions_per_trial=2,\n",
    "        directory='cnn_tuner_dir',\n",
    "        project_name=f'cnn_audio_classification_{epoch_count}'\n",
    "    )\n",
    "\n",
    "    # Perform the search with the current epoch count\n",
    "    tuner.search(X_train, y_train,\n",
    "                 epochs=epoch_count,\n",
    "                 validation_split=0.2,\n",
    "                 callbacks=[early_stopping])\n",
    "    # Retrieve the best hyperparameters\n",
    "    \n",
    "    best_hps = tuner.get_best_hyperparameters(num_trials=1)[0]\n",
    "    print(f\"Best hyperparameters for {epoch_count} epochs: {best_hps.values}\")"
   ]
  },
  {
   "cell_type": "code",
   "execution_count": 179,
   "id": "3431e948-850b-4e04-8951-076b2d931eb3",
   "metadata": {},
   "outputs": [],
   "source": [
    "# Retrieve the best model\n",
    "best_model = tuner.get_best_models(num_models=1)[0]"
   ]
  },
  {
   "cell_type": "code",
   "execution_count": 180,
   "id": "31751f86-71f3-4263-a92f-325599b81b79",
   "metadata": {},
   "outputs": [],
   "source": [
    "best_model.save('best_cnn_1d_model.keras')"
   ]
  },
  {
   "cell_type": "markdown",
   "id": "f7cb0804-9233-4993-ba1e-bb87a31dd14f",
   "metadata": {},
   "source": [
    "### Best Model Test"
   ]
  },
  {
   "cell_type": "code",
   "execution_count": 181,
   "id": "1f7e6144-169a-47ef-b724-568a68c4c17d",
   "metadata": {},
   "outputs": [
    {
     "name": "stdout",
     "output_type": "stream",
     "text": [
      "0.9085000157356262\n"
     ]
    }
   ],
   "source": [
    "test_accuracy=best_model.evaluate(X_test,y_test,verbose=0)\n",
    "print(test_accuracy[1])"
   ]
  },
  {
   "cell_type": "markdown",
   "id": "d16df07c-fd2f-4458-b9bb-95888e5dd625",
   "metadata": {},
   "source": [
    "### Best hyperparameters"
   ]
  },
  {
   "cell_type": "code",
   "execution_count": 215,
   "id": "52423abc-f781-48b7-9b65-08fd5c782aac",
   "metadata": {},
   "outputs": [
    {
     "name": "stdout",
     "output_type": "stream",
     "text": [
      "Reloading Tuner from cnn_tuner_dir/cnn_audio_classification_50/tuner0.json\n",
      "Reloading Tuner from cnn_tuner_dir/cnn_audio_classification_100/tuner0.json\n"
     ]
    }
   ],
   "source": [
    "import pandas as pd\n",
    "import keras_tuner as kt\n",
    "\n",
    "# Initialize a list to hold dictionaries of hyperparameters for each epoch count\n",
    "hyperparameters_list = []\n",
    "\n",
    "# List of possible epochs you want to analyze\n",
    "possible_epochs = [50, 100]\n",
    "\n",
    "for epoch_count in possible_epochs:\n",
    "    # Initialize the tuner with the CNN model\n",
    "    tuner = kt.RandomSearch(\n",
    "        build_cnn_model,  # Ensure you use your existing function for model building\n",
    "        objective='val_accuracy',\n",
    "        max_trials=10,\n",
    "        executions_per_trial=2,\n",
    "        directory='cnn_tuner_dir',\n",
    "        project_name=f'cnn_audio_classification_{epoch_count}'\n",
    "    )\n",
    "\n",
    "    # Get best hyperparameters for the current epoch count\n",
    "    best_hyperparameters = tuner.get_best_hyperparameters(num_trials=1)[0].values\n",
    "\n",
    "    # Add the epoch count to the dictionary of hyperparameters\n",
    "    hyperparameters = {\"epoch_count\": epoch_count, **best_hyperparameters}\n",
    "\n",
    "    # Append the dictionary to the list\n",
    "    hyperparameters_list.append(hyperparameters)\n",
    "\n",
    "# Create a DataFrame from the list of hyperparameter dictionaries\n",
    "best_params_df = pd.DataFrame(hyperparameters_list)\n"
   ]
  },
  {
   "cell_type": "code",
   "execution_count": 216,
   "id": "124c0913-2d98-40cf-87dd-9bca53688013",
   "metadata": {},
   "outputs": [
    {
     "data": {
      "text/html": [
       "<div>\n",
       "<style scoped>\n",
       "    .dataframe tbody tr th:only-of-type {\n",
       "        vertical-align: middle;\n",
       "    }\n",
       "\n",
       "    .dataframe tbody tr th {\n",
       "        vertical-align: top;\n",
       "    }\n",
       "\n",
       "    .dataframe thead th {\n",
       "        text-align: right;\n",
       "    }\n",
       "</style>\n",
       "<table border=\"1\" class=\"dataframe\">\n",
       "  <thead>\n",
       "    <tr style=\"text-align: right;\">\n",
       "      <th></th>\n",
       "      <th>epoch_count</th>\n",
       "      <th>filters_1</th>\n",
       "      <th>kernel_size_1</th>\n",
       "      <th>activation_1</th>\n",
       "      <th>pool_size_1</th>\n",
       "      <th>filters_2</th>\n",
       "      <th>kernel_size_2</th>\n",
       "      <th>activation_2</th>\n",
       "      <th>pool_size_2</th>\n",
       "      <th>units</th>\n",
       "      <th>activation_dense</th>\n",
       "      <th>dropout</th>\n",
       "      <th>learning_rate</th>\n",
       "    </tr>\n",
       "  </thead>\n",
       "  <tbody>\n",
       "    <tr>\n",
       "      <th>0</th>\n",
       "      <td>50</td>\n",
       "      <td>32</td>\n",
       "      <td>3</td>\n",
       "      <td>relu</td>\n",
       "      <td>2</td>\n",
       "      <td>192</td>\n",
       "      <td>5</td>\n",
       "      <td>relu</td>\n",
       "      <td>2</td>\n",
       "      <td>320</td>\n",
       "      <td>relu</td>\n",
       "      <td>0.2</td>\n",
       "      <td>0.0001</td>\n",
       "    </tr>\n",
       "    <tr>\n",
       "      <th>1</th>\n",
       "      <td>100</td>\n",
       "      <td>64</td>\n",
       "      <td>3</td>\n",
       "      <td>relu</td>\n",
       "      <td>2</td>\n",
       "      <td>192</td>\n",
       "      <td>3</td>\n",
       "      <td>tanh</td>\n",
       "      <td>2</td>\n",
       "      <td>512</td>\n",
       "      <td>relu</td>\n",
       "      <td>0.3</td>\n",
       "      <td>0.0010</td>\n",
       "    </tr>\n",
       "  </tbody>\n",
       "</table>\n",
       "</div>"
      ],
      "text/plain": [
       "   epoch_count  filters_1  kernel_size_1 activation_1  pool_size_1  filters_2  \\\n",
       "0           50         32              3         relu            2        192   \n",
       "1          100         64              3         relu            2        192   \n",
       "\n",
       "   kernel_size_2 activation_2  pool_size_2  units activation_dense  dropout  \\\n",
       "0              5         relu            2    320             relu      0.2   \n",
       "1              3         tanh            2    512             relu      0.3   \n",
       "\n",
       "   learning_rate  \n",
       "0         0.0001  \n",
       "1         0.0010  "
      ]
     },
     "execution_count": 216,
     "metadata": {},
     "output_type": "execute_result"
    }
   ],
   "source": [
    "best_params_df "
   ]
  },
  {
   "cell_type": "code",
   "execution_count": 182,
   "id": "613c7a24-4cfc-4efd-bf82-a5adf3b713b4",
   "metadata": {},
   "outputs": [
    {
     "name": "stdout",
     "output_type": "stream",
     "text": [
      "Best Hyperparameters:\n",
      "filters_1: 64\n",
      "kernel_size_1: 3\n",
      "activation_1: relu\n",
      "pool_size_1: 2\n",
      "filters_2: 192\n",
      "kernel_size_2: 3\n",
      "activation_2: tanh\n",
      "pool_size_2: 2\n",
      "units: 512\n",
      "activation_dense: relu\n",
      "dropout: 0.30000000000000004\n",
      "learning_rate: 0.001\n"
     ]
    }
   ],
   "source": [
    "# Retrieve the best hyperparameters\n",
    "best_hyperparameters = tuner.get_best_hyperparameters(num_trials=1)[0]\n",
    "\n",
    "# Print the best hyperparameters\n",
    "print(\"Best Hyperparameters:\")\n",
    "for hp_name, hp_value in best_hyperparameters.values.items():\n",
    "    print(f\"{hp_name}: {hp_value}\")"
   ]
  },
  {
   "cell_type": "code",
   "execution_count": 219,
   "id": "49e04995-b72d-4fdd-82b9-1686df347282",
   "metadata": {},
   "outputs": [],
   "source": [
    "import pandas as pd\n",
    "\n",
    "# Retrieve the best hyperparameters\n",
    "best_hyperparameters = tuner.get_best_hyperparameters(num_trials=1)[0]\n",
    "\n",
    "# Convert hyperparameters to a pandas DataFrame\n",
    "hyperparameters_df = pd.DataFrame(list(best_hyperparameters.values.items()), columns=[\"Hyperparameter\", \"Value\"])"
   ]
  },
  {
   "cell_type": "code",
   "execution_count": 220,
   "id": "316bcf65-2f2f-43d4-8583-0020a752eb20",
   "metadata": {},
   "outputs": [
    {
     "data": {
      "text/html": [
       "<div>\n",
       "<style scoped>\n",
       "    .dataframe tbody tr th:only-of-type {\n",
       "        vertical-align: middle;\n",
       "    }\n",
       "\n",
       "    .dataframe tbody tr th {\n",
       "        vertical-align: top;\n",
       "    }\n",
       "\n",
       "    .dataframe thead th {\n",
       "        text-align: right;\n",
       "    }\n",
       "</style>\n",
       "<table border=\"1\" class=\"dataframe\">\n",
       "  <thead>\n",
       "    <tr style=\"text-align: right;\">\n",
       "      <th></th>\n",
       "      <th>Hyperparameter</th>\n",
       "      <th>Value</th>\n",
       "    </tr>\n",
       "  </thead>\n",
       "  <tbody>\n",
       "    <tr>\n",
       "      <th>0</th>\n",
       "      <td>filters_1</td>\n",
       "      <td>64</td>\n",
       "    </tr>\n",
       "    <tr>\n",
       "      <th>1</th>\n",
       "      <td>kernel_size_1</td>\n",
       "      <td>3</td>\n",
       "    </tr>\n",
       "    <tr>\n",
       "      <th>2</th>\n",
       "      <td>activation_1</td>\n",
       "      <td>relu</td>\n",
       "    </tr>\n",
       "    <tr>\n",
       "      <th>3</th>\n",
       "      <td>pool_size_1</td>\n",
       "      <td>2</td>\n",
       "    </tr>\n",
       "    <tr>\n",
       "      <th>4</th>\n",
       "      <td>filters_2</td>\n",
       "      <td>192</td>\n",
       "    </tr>\n",
       "    <tr>\n",
       "      <th>5</th>\n",
       "      <td>kernel_size_2</td>\n",
       "      <td>3</td>\n",
       "    </tr>\n",
       "    <tr>\n",
       "      <th>6</th>\n",
       "      <td>activation_2</td>\n",
       "      <td>tanh</td>\n",
       "    </tr>\n",
       "    <tr>\n",
       "      <th>7</th>\n",
       "      <td>pool_size_2</td>\n",
       "      <td>2</td>\n",
       "    </tr>\n",
       "    <tr>\n",
       "      <th>8</th>\n",
       "      <td>units</td>\n",
       "      <td>512</td>\n",
       "    </tr>\n",
       "    <tr>\n",
       "      <th>9</th>\n",
       "      <td>activation_dense</td>\n",
       "      <td>relu</td>\n",
       "    </tr>\n",
       "    <tr>\n",
       "      <th>10</th>\n",
       "      <td>dropout</td>\n",
       "      <td>0.3</td>\n",
       "    </tr>\n",
       "    <tr>\n",
       "      <th>11</th>\n",
       "      <td>learning_rate</td>\n",
       "      <td>0.001</td>\n",
       "    </tr>\n",
       "  </tbody>\n",
       "</table>\n",
       "</div>"
      ],
      "text/plain": [
       "      Hyperparameter  Value\n",
       "0          filters_1     64\n",
       "1      kernel_size_1      3\n",
       "2       activation_1   relu\n",
       "3        pool_size_1      2\n",
       "4          filters_2    192\n",
       "5      kernel_size_2      3\n",
       "6       activation_2   tanh\n",
       "7        pool_size_2      2\n",
       "8              units    512\n",
       "9   activation_dense   relu\n",
       "10           dropout    0.3\n",
       "11     learning_rate  0.001"
      ]
     },
     "execution_count": 220,
     "metadata": {},
     "output_type": "execute_result"
    }
   ],
   "source": [
    "hyperparameters_df"
   ]
  },
  {
   "cell_type": "markdown",
   "id": "a9473f62-129d-46b8-8f86-c28456911983",
   "metadata": {},
   "source": [
    "## Train the Best Model again"
   ]
  },
  {
   "cell_type": "code",
   "execution_count": 185,
   "id": "5230f073-def7-4398-b609-794bc5b4ba35",
   "metadata": {},
   "outputs": [
    {
     "name": "stdout",
     "output_type": "stream",
     "text": [
      "Epoch 1/100\n",
      "200/200 [==============================] - 3s 8ms/step - loss: 1.2938 - accuracy: 0.5667 - val_loss: 0.8241 - val_accuracy: 0.7456\n",
      "Epoch 2/100\n",
      "200/200 [==============================] - 2s 9ms/step - loss: 0.6399 - accuracy: 0.7947 - val_loss: 0.6073 - val_accuracy: 0.8100\n",
      "Epoch 3/100\n",
      "200/200 [==============================] - 2s 10ms/step - loss: 0.4069 - accuracy: 0.8678 - val_loss: 0.4866 - val_accuracy: 0.8369\n",
      "Epoch 4/100\n",
      "200/200 [==============================] - 2s 10ms/step - loss: 0.2749 - accuracy: 0.9087 - val_loss: 0.3949 - val_accuracy: 0.8794\n",
      "Epoch 5/100\n",
      "200/200 [==============================] - 2s 11ms/step - loss: 0.1993 - accuracy: 0.9375 - val_loss: 0.3815 - val_accuracy: 0.8869\n",
      "Epoch 6/100\n",
      "200/200 [==============================] - 2s 10ms/step - loss: 0.1418 - accuracy: 0.9539 - val_loss: 0.3616 - val_accuracy: 0.8975\n",
      "Epoch 7/100\n",
      "200/200 [==============================] - 2s 10ms/step - loss: 0.1156 - accuracy: 0.9616 - val_loss: 0.3594 - val_accuracy: 0.9006\n",
      "Epoch 8/100\n",
      "200/200 [==============================] - 2s 8ms/step - loss: 0.0932 - accuracy: 0.9702 - val_loss: 0.3496 - val_accuracy: 0.8913\n",
      "Epoch 9/100\n",
      "200/200 [==============================] - 2s 10ms/step - loss: 0.0635 - accuracy: 0.9789 - val_loss: 0.3852 - val_accuracy: 0.9006\n",
      "Epoch 10/100\n",
      "200/200 [==============================] - 2s 10ms/step - loss: 0.0664 - accuracy: 0.9798 - val_loss: 0.4068 - val_accuracy: 0.9025\n",
      "Epoch 11/100\n",
      "200/200 [==============================] - 2s 10ms/step - loss: 0.0571 - accuracy: 0.9819 - val_loss: 0.4288 - val_accuracy: 0.9019\n",
      "Epoch 12/100\n",
      "200/200 [==============================] - 2s 10ms/step - loss: 0.0585 - accuracy: 0.9830 - val_loss: 0.4945 - val_accuracy: 0.8888\n",
      "Epoch 13/100\n",
      "200/200 [==============================] - 2s 10ms/step - loss: 0.0616 - accuracy: 0.9791 - val_loss: 0.5213 - val_accuracy: 0.8881\n"
     ]
    },
    {
     "data": {
      "image/png": "[encoded data removed]",
      "text/plain": [
       "<Figure size 1200x400 with 2 Axes>"
      ]
     },
     "metadata": {},
     "output_type": "display_data"
    }
   ],
   "source": [
    "# Rebuild the best model using the best hyperparameters\n",
    "best_hyperparameters = tuner.get_best_hyperparameters(num_trials=1)[0]\n",
    "\n",
    "model = build_cnn_model(best_hyperparameters)\n",
    "\n",
    "# Train the model again, this time keeping track of the history for plotting\n",
    "history = model.fit(\n",
    "    X_train, y_train,\n",
    "    epochs=100,  # You can set an appropriate number of epochs here\n",
    "    validation_split=0.2,\n",
    "    callbacks=[early_stopping],\n",
    "    verbose=1\n",
    ")\n",
    "\n",
    "# Plotting Training and Validation Loss and Accuracy\n",
    "plt.figure(figsize=(12, 4))\n",
    "\n",
    "# Plotting loss\n",
    "plt.subplot(1, 2, 1)\n",
    "plt.plot(history.history['loss'], label='Training Loss')\n",
    "plt.plot(history.history['val_loss'], label='Validation Loss')\n",
    "plt.title('Loss')\n",
    "plt.xlabel('Epochs')\n",
    "plt.ylabel('Loss')\n",
    "plt.legend()\n",
    "\n",
    "# Plotting accuracy\n",
    "plt.subplot(1, 2, 2)\n",
    "plt.plot(history.history['accuracy'], label='Training Accuracy')\n",
    "plt.plot(history.history['val_accuracy'], label='Validation Accuracy')\n",
    "plt.title('Accuracy')\n",
    "plt.xlabel('Epochs')\n",
    "plt.ylabel('Accuracy')\n",
    "plt.legend()\n",
    "\n",
    "plt.show()"
   ]
  },
  {
   "cell_type": "code",
   "execution_count": 186,
   "id": "5968984b-f4a2-40ca-be0b-bcfc5d2bc3d2",
   "metadata": {},
   "outputs": [
    {
     "name": "stdout",
     "output_type": "stream",
     "text": [
      "0.9089999794960022\n"
     ]
    }
   ],
   "source": [
    "test_accuracy=model.evaluate(X_test,y_test,verbose=0)\n",
    "print(test_accuracy[1])"
   ]
  },
  {
   "cell_type": "code",
   "execution_count": 221,
   "id": "74308531-debf-4ab6-9bbf-40842ccaa0ce",
   "metadata": {},
   "outputs": [
    {
     "name": "stdout",
     "output_type": "stream",
     "text": [
      "Model: \"sequential_1\"\n",
      "_________________________________________________________________\n",
      " Layer (type)                Output Shape              Param #   \n",
      "=================================================================\n",
      " conv1d_2 (Conv1D)           (None, 38, 64)            256       \n",
      "                                                                 \n",
      " max_pooling1d_2 (MaxPoolin  (None, 19, 64)            0         \n",
      " g1D)                                                            \n",
      "                                                                 \n",
      " conv1d_3 (Conv1D)           (None, 17, 192)           37056     \n",
      "                                                                 \n",
      " max_pooling1d_3 (MaxPoolin  (None, 8, 192)            0         \n",
      " g1D)                                                            \n",
      "                                                                 \n",
      " flatten_1 (Flatten)         (None, 1536)              0         \n",
      "                                                                 \n",
      " dense_2 (Dense)             (None, 512)               786944    \n",
      "                                                                 \n",
      " dropout_1 (Dropout)         (None, 512)               0         \n",
      "                                                                 \n",
      " dense_3 (Dense)             (None, 10)                5130      \n",
      "                                                                 \n",
      "=================================================================\n",
      "Total params: 829386 (3.16 MB)\n",
      "Trainable params: 829386 (3.16 MB)\n",
      "Non-trainable params: 0 (0.00 Byte)\n",
      "_________________________________________________________________\n"
     ]
    }
   ],
   "source": [
    "model.summary()"
   ]
  },
  {
   "cell_type": "markdown",
   "id": "5e05153a-5e44-40aa-b742-6842c2310a2f",
   "metadata": {},
   "source": [
    "## Classfication Report "
   ]
  },
  {
   "cell_type": "code",
   "execution_count": 222,
   "id": "1e23f35a-a186-4633-a0d6-e0ba380ac835",
   "metadata": {},
   "outputs": [
    {
     "name": "stdout",
     "output_type": "stream",
     "text": [
      "63/63 [==============================] - 0s 2ms/step\n",
      "                  precision    recall  f1-score   support\n",
      "\n",
      " air_conditioner       0.79      0.97      0.87       191\n",
      "        car_horn       0.97      0.99      0.98       193\n",
      "children_playing       0.85      0.79      0.82       207\n",
      "        dog_bark       0.86      0.79      0.82       202\n",
      "        drilling       0.93      0.91      0.92       204\n",
      "   engine_idling       0.92      0.95      0.94       192\n",
      "        gun_shot       0.91      0.97      0.94       195\n",
      "      jackhammer       0.97      0.95      0.96       210\n",
      "           siren       0.98      0.92      0.95       202\n",
      "    street_music       0.86      0.79      0.82       204\n",
      "\n",
      "        accuracy                           0.90      2000\n",
      "       macro avg       0.90      0.90      0.90      2000\n",
      "    weighted avg       0.90      0.90      0.90      2000\n",
      "\n"
     ]
    }
   ],
   "source": [
    "import matplotlib.pyplot as plt\n",
    "from sklearn.metrics import classification_report, confusion_matrix, ConfusionMatrixDisplay\n",
    "\n",
    "# Example of class names\n",
    "class_names = ['air_conditioner', 'car_horn', 'children_playing', 'dog_bark', 'drilling', 'engine_idling', 'gun_shot', 'jackhammer', 'siren', 'street_music']\n",
    "\n",
    "# Generate predictions for the test set\n",
    "y_pred = (model.predict(X_test) > 0.5).astype(\"int32\")\n",
    "\n",
    "# Get the class labels from the one-hot encoded predictions and true values\n",
    "y_pred_classes = np.argmax(y_pred, axis=-1)\n",
    "y_test_classes = np.argmax(y_test, axis=-1)\n",
    "\n",
    "# Print the classification report\n",
    "print(classification_report(y_test_classes, y_pred_classes, target_names=class_names))\n"
   ]
  },
  {
   "cell_type": "markdown",
   "id": "e33b81f6-545c-4830-986a-934f381d7eb4",
   "metadata": {},
   "source": [
    "## Confution Matrix"
   ]
  },
  {
   "cell_type": "code",
   "execution_count": 223,
   "id": "acd5d608-7454-408d-8ab6-931860be35aa",
   "metadata": {},
   "outputs": [
    {
     "data": {
      "image/png": "[encoded data removed]",
      "text/plain": [
       "<Figure size 1200x1000 with 2 Axes>"
      ]
     },
     "metadata": {},
     "output_type": "display_data"
    }
   ],
   "source": [
    "# Create confusion matrix\n",
    "conf_matrix = confusion_matrix(y_test_classes, y_pred_classes)\n",
    "\n",
    "# Plot the confusion matrix\n",
    "fig, ax = plt.subplots(figsize=(12, 10))  # Specify figure size directly in subplots\n",
    "\n",
    "disp = ConfusionMatrixDisplay(confusion_matrix=conf_matrix, display_labels=class_names)\n",
    "\n",
    "disp.plot(cmap=plt.cm.Blues, ax=ax)  # Pass the axis to the plot method\n",
    "\n",
    "ax.set_xticklabels(disp.display_labels, rotation=45, ha='right')  # Rotate class names on x-axis for better readability\n",
    "\n",
    "plt.show()"
   ]
  },
  {
   "cell_type": "code",
   "execution_count": null,
   "id": "9a5e8e2f-09dc-40ab-8686-809f6fc383a5",
   "metadata": {},
   "outputs": [],
   "source": []
  },
  {
   "cell_type": "code",
   "execution_count": null,
   "id": "f773e82c-79e6-4e91-9f1f-1bfa3ed6b206",
   "metadata": {},
   "outputs": [],
   "source": []
  },
  {
   "cell_type": "code",
   "execution_count": null,
   "id": "2bd119a5-7a43-47a1-9475-a1316f0876a5",
   "metadata": {},
   "outputs": [],
   "source": []
  },
  {
   "cell_type": "code",
   "execution_count": null,
   "id": "35d0b82c-c65a-4abc-9445-039cee53cdca",
   "metadata": {},
   "outputs": [],
   "source": []
  },
  {
   "cell_type": "code",
   "execution_count": null,
   "id": "821138c5-1b18-4dff-ae9e-ba0c5a8921aa",
   "metadata": {},
   "outputs": [],
   "source": []
  },
  {
   "cell_type": "code",
   "execution_count": null,
   "id": "c3e014e7-74b1-4b6d-bcdc-37e2fb2a2c38",
   "metadata": {},
   "outputs": [],
   "source": []
  },
  {
   "cell_type": "code",
   "execution_count": null,
   "id": "85fcf7d7-476c-4e73-843f-84a6bb515a3e",
   "metadata": {},
   "outputs": [],
   "source": []
  },
  {
   "cell_type": "code",
   "execution_count": null,
   "id": "c0a0ec3c-43ab-43a2-a690-7e5a3d439b3a",
   "metadata": {},
   "outputs": [],
   "source": []
  },
  {
   "cell_type": "code",
   "execution_count": null,
   "id": "16ef6b16-89b2-42f5-ab65-208902989cd7",
   "metadata": {},
   "outputs": [],
   "source": []
  },
  {
   "cell_type": "code",
   "execution_count": null,
   "id": "a564bd84-e039-4d2e-a23f-c65b6bf4d163",
   "metadata": {},
   "outputs": [],
   "source": []
  },
  {
   "cell_type": "code",
   "execution_count": null,
   "id": "3892cbf9-adcd-4076-8a7f-308d0509359f",
   "metadata": {},
   "outputs": [],
   "source": []
  },
  {
   "cell_type": "code",
   "execution_count": null,
   "id": "2dcb87dc-3c84-4429-aade-ce8f1ff1111c",
   "metadata": {},
   "outputs": [],
   "source": []
  },
  {
   "cell_type": "code",
   "execution_count": null,
   "id": "b957ad94-ee13-4be7-a0f7-4619744f090a",
   "metadata": {},
   "outputs": [],
   "source": []
  },
  {
   "cell_type": "code",
   "execution_count": null,
   "id": "cefc5992-8462-4371-908e-9593fcaee973",
   "metadata": {},
   "outputs": [],
   "source": []
  }
 ],
 "metadata": {
  "kernelspec": {
   "display_name": "Python 3 (ipykernel)",
   "language": "python",
   "name": "python3"
  },
  "language_info": {
   "codemirror_mode": {
    "name": "ipython",
    "version": 3
   },
   "file_extension": ".py",
   "mimetype": "text/x-python",
   "name": "python",
   "nbconvert_exporter": "python",
   "pygments_lexer": "ipython3",
   "version": "3.11.7"
  }
 },
 "nbformat": 4,
 "nbformat_minor": 5
}
