{
 "cells": [
  {
   "cell_type": "markdown",
   "id": "3a36efed-10fe-4d33-9c3a-b82e76e74afd",
   "metadata": {},
   "source": [
    "## Importing Required Dependencies"
   ]
  },
  {
   "cell_type": "code",
   "execution_count": 214,
   "id": "1e3506cf-2bf3-4fa9-bc99-fdeb37ab31f8",
   "metadata": {},
   "outputs": [],
   "source": [
    "import pandas as pd\n",
    "import numpy as np\n",
    "\n",
    "import matplotlib.pyplot as plt\n",
    "%matplotlib inline\n",
    "import seaborn as sns\n",
    "\n",
    "from sklearn.model_selection import train_test_split\n",
    "from sklearn.metrics import classification_report\n",
    "\n",
    "\n",
    "from sklearn.preprocessing import StandardScaler\n",
    "\n",
    "from tensorflow.keras.models import Sequential\n",
    "from tensorflow.keras.layers import Conv2D, Flatten, Dense, MaxPool2D, Dropout\n",
    "from tensorflow.keras.utils import to_categorical \n",
    "from keras.callbacks import ModelCheckpoint\n",
    "from tensorflow.keras.callbacks import EarlyStopping\n",
    "\n",
    "import os\n",
    "import librosa\n",
    "import librosa.display\n",
    "import glob \n",
    "import skimage\n",
    "\n",
    "from imblearn.over_sampling import SMOTE\n",
    "from collections import Counter\n",
    "\n",
    "from sklearn.preprocessing import StandardScaler\n",
    "import joblib\n",
    "\n",
    "import keras_tuner as kt \n",
    "import tensorflow as tf"
   ]
  },
  {
   "cell_type": "markdown",
   "id": "afb7e63f-4b47-45c4-805e-50fcc53e6831",
   "metadata": {},
   "source": [
    "## Dataset Preparation"
   ]
  },
  {
   "cell_type": "markdown",
   "id": "f94e6b2d-76dc-4c34-8a7b-94b3a8c974ff",
   "metadata": {},
   "source": [
    "###  Load and Prepare Data"
   ]
  },
  {
   "cell_type": "code",
   "execution_count": 215,
   "id": "88306fd0-9e1a-424e-895e-5d23b5b0be9f",
   "metadata": {},
   "outputs": [],
   "source": [
    "df=pd.read_csv('./augmented_normal_data.csv')\n",
    "\n",
    "X = df.drop(columns=['label']).values\n",
    "y = df['label'].values"
   ]
  },
  {
   "cell_type": "code",
   "execution_count": 216,
   "id": "f3e9b8c3-08b6-45cd-a20a-8fa2ba2a6595",
   "metadata": {},
   "outputs": [
    {
     "name": "stdout",
     "output_type": "stream",
     "text": [
      "Shape of X: (43660, 128)\n",
      "Shape of y: (43660,)\n"
     ]
    }
   ],
   "source": [
    "print(\"Shape of X:\", X.shape)\n",
    "print(\"Shape of y:\", y.shape)"
   ]
  },
  {
   "cell_type": "markdown",
   "id": "14ab1e2b-ef3e-4c57-836d-9b825955a8e1",
   "metadata": {},
   "source": [
    "### One-Hot Encoding"
   ]
  },
  {
   "cell_type": "code",
   "execution_count": 217,
   "id": "8e6313dc-a3be-4f3f-a5e0-c2f0439d31b7",
   "metadata": {},
   "outputs": [],
   "source": [
    "y=np.array(pd.get_dummies(y,dtype=int))"
   ]
  },
  {
   "cell_type": "markdown",
   "id": "86c5d828-bf7b-4f88-ad38-5e9d13428ecc",
   "metadata": {},
   "source": [
    "### SMOTE for Balanced Sampling"
   ]
  },
  {
   "cell_type": "code",
   "execution_count": null,
   "id": "776e8719-7bb7-492a-bce6-09e0f9d27ef0",
   "metadata": {},
   "outputs": [],
   "source": [
    "# Assuming X and y are your features and target labels\n",
    "smote = SMOTE(random_state=0)\n",
    "X_resampled, y_resampled = smote.fit_resample(X, y)\n",
    "\n",
    "# Convert one-hot encoded labels back to class labels\n",
    "y_resampled_labels = np.argmax(y_resampled, axis=1)\n",
    "\n",
    "# Check the distribution of data after resampling\n",
    "counter = Counter(y_resampled_labels)\n",
    "print(\"Class distribution after resampling:\\n\", counter)"
   ]
  },
  {
   "cell_type": "markdown",
   "id": "44033ccc-dd36-4350-89a0-99ca054913b8",
   "metadata": {},
   "source": [
    "### Data Split "
   ]
  },
  {
   "cell_type": "code",
   "execution_count": 219,
   "id": "cd02b7ab-6b3b-413c-bd19-98f684a021b1",
   "metadata": {},
   "outputs": [
    {
     "name": "stdout",
     "output_type": "stream",
     "text": [
      "Shape of X_train: (40000, 128)\n",
      "Shape of X_test: (10000, 128)\n",
      "Shape of y_train: (40000, 10)\n",
      "Shape of y_test: (10000, 10)\n"
     ]
    }
   ],
   "source": [
    "X_train, X_test, y_train, y_test = train_test_split(X_resampled, y_resampled, random_state=1, test_size=0.2)\n",
    "\n",
    "print(\"Shape of X_train:\", X_train.shape)\n",
    "print(\"Shape of X_test:\", X_test.shape)\n",
    "print(\"Shape of y_train:\", y_train.shape)\n",
    "print(\"Shape of y_test:\", y_test.shape)"
   ]
  },
  {
   "cell_type": "markdown",
   "id": "96dc6bd0-f09c-4a60-9f23-0950f34a2b8d",
   "metadata": {},
   "source": [
    "### Scaling"
   ]
  },
  {
   "cell_type": "code",
   "execution_count": 220,
   "id": "723ce176-aa9e-4605-bb3d-43c55f100c70",
   "metadata": {},
   "outputs": [
    {
     "data": {
      "text/plain": [
       "['standard_scaler_cnn_2d.pkl']"
      ]
     },
     "execution_count": 220,
     "metadata": {},
     "output_type": "execute_result"
    }
   ],
   "source": [
    "scaler = StandardScaler()\n",
    "\n",
    "X_train = scaler.fit_transform(X_train)\n",
    "X_test = scaler.transform(X_test)\n",
    "\n",
    "joblib.dump(scaler, 'standard_scaler_cnn_2d.pkl')"
   ]
  },
  {
   "cell_type": "code",
   "execution_count": 221,
   "id": "f99e9993-a0ec-40df-a947-a60a672b8559",
   "metadata": {},
   "outputs": [],
   "source": [
    "X_train = X_train.reshape(len(X_train), 16, 8, 1)\n",
    "X_test = X_test.reshape(len(X_test), 16, 8, 1)"
   ]
  },
  {
   "cell_type": "code",
   "execution_count": 222,
   "id": "e74ac762-8266-4cc9-9db1-98e5ea0da313",
   "metadata": {},
   "outputs": [],
   "source": [
    "input_dim = (16, 8, 1)"
   ]
  },
  {
   "cell_type": "markdown",
   "id": "13843eb3-3854-421a-930d-572bba78c3d2",
   "metadata": {},
   "source": [
    "## Hyperparameter Tuning"
   ]
  },
  {
   "cell_type": "markdown",
   "id": "469f741e-a6c9-45fe-b22d-bbe5b110136a",
   "metadata": {},
   "source": [
    "### Function build_model"
   ]
  },
  {
   "cell_type": "code",
   "execution_count": 235,
   "id": "06854b4d-39a2-4faa-9e90-9babfa4d568a",
   "metadata": {},
   "outputs": [],
   "source": [
    "class CNNHyperModel(kt.HyperModel):\n",
    "    \n",
    "    def __init__(self, input_shape, output_units):\n",
    "        self.input_shape = input_shape\n",
    "        self.output_units = output_units\n",
    "\n",
    "    def build(self, hp):\n",
    "        model = Sequential()\n",
    "\n",
    "        # First Conv2D layer\n",
    "        model.add(Conv2D(\n",
    "            filters=hp.Int('filters_1', min_value=32, max_value=256, step=32),\n",
    "            kernel_size=(hp.Choice('kernel_height_1', values=[3, 5]), hp.Choice('kernel_width_1', values=[3, 5])),\n",
    "            activation=hp.Choice('activation_1', values=['relu', 'tanh']),\n",
    "            padding='same',\n",
    "            input_shape=self.input_shape\n",
    "        ))\n",
    "        model.add(MaxPool2D(pool_size=(2, 2)))\n",
    "\n",
    "        # Second Conv2D layer\n",
    "        model.add(Conv2D(\n",
    "            filters=hp.Int('filters_2', min_value=32, max_value=256, step=32),\n",
    "           kernel_size=(hp.Choice('kernel_height_1', values=[3, 5]), hp.Choice('kernel_width_1', values=[3, 5])),\n",
    "            activation=hp.Choice('activation_2', values=['relu', 'tanh']),\n",
    "            padding='same'\n",
    "        ))\n",
    "        model.add(MaxPool2D(pool_size=(2, 2)))\n",
    "        model.add(Dropout(hp.Float('dropout_1', min_value=0, max_value=0.5, step=0.1)))\n",
    "\n",
    "        # Flatten and Dense layers\n",
    "        model.add(Flatten())\n",
    "        model.add(Dense(hp.Int('dense_units', min_value=128, max_value=1024, step=128),\n",
    "                        activation=hp.Choice('dense_activation', values=['relu', 'tanh'])))\n",
    "        model.add(Dropout(hp.Float('dropout_2', min_value=0, max_value=0.5, step=0.1)))\n",
    "\n",
    "        # Output layer\n",
    "        model.add(Dense(self.output_units, activation='softmax'))\n",
    "\n",
    "        # Compile the model\n",
    "        model.compile(\n",
    "            optimizer=tf.optimizers.Adam(hp.Float('learning_rate', min_value=1e-4, max_value=1e-2, sampling='log')),\n",
    "            loss='categorical_crossentropy',\n",
    "            metrics=['accuracy']\n",
    "        )\n",
    "\n",
    "        return model"
   ]
  },
  {
   "cell_type": "code",
   "execution_count": 236,
   "id": "556b0d19-2afd-4595-8219-f64df6f3c83d",
   "metadata": {},
   "outputs": [
    {
     "name": "stdout",
     "output_type": "stream",
     "text": [
      "Training with 50 epochs\n",
      "Reloading Tuner from cnn_tuner/cnn_epoch_50/tuner0.json\n",
      "Best hyperparameters for 50 epochs: {'filters_1': 192, 'kernel_height_1': 3, 'kernel_width_1': 3, 'activation_1': 'tanh', 'filters_2': 160, 'activation_2': 'relu', 'dropout_1': 0.4, 'dense_units': 512, 'dense_activation': 'relu', 'dropout_2': 0.30000000000000004, 'learning_rate': 0.0014017048798120248, 'tuner/epochs': 6, 'tuner/initial_epoch': 2, 'tuner/bracket': 3, 'tuner/round': 1, 'tuner/trial_id': '0003'}\n",
      "Training with 100 epochs\n",
      "Reloading Tuner from cnn_tuner/cnn_epoch_100/tuner0.json\n",
      "Best hyperparameters for 100 epochs: {'filters_1': 224, 'kernel_height_1': 3, 'kernel_width_1': 3, 'activation_1': 'relu', 'filters_2': 64, 'activation_2': 'tanh', 'dropout_1': 0.1, 'dense_units': 1024, 'dense_activation': 'relu', 'dropout_2': 0.2, 'learning_rate': 0.00031255246099284477}\n"
     ]
    }
   ],
   "source": [
    "input_shape = (input_dim)  # Replace input_dim with the actual input shape\n",
    "output_units = y_train.shape[1]  # Define the number of classes for the output layer\n",
    "\n",
    "# Initialize CNNHyperModel\n",
    "cnn_hypermodel = CNNHyperModel(input_shape=input_shape, output_units=output_units)\n",
    "\n",
    "# Set up early stopping callback\n",
    "early_stopping = EarlyStopping(\n",
    "    monitor='val_loss',\n",
    "    patience=5,\n",
    "    restore_best_weights=True,\n",
    "    verbose=1\n",
    ")\n",
    "\n",
    "# Set up Keras Tuner with RandomSearch strategy\n",
    "possible_epochs = [50, 100]\n",
    "\n",
    "for epoch_count in possible_epochs:\n",
    "    print(f\"Training with {epoch_count} epochs\")\n",
    "\n",
    "    tuner = kt.RandomSearch(\n",
    "        cnn_hypermodel,\n",
    "        objective='val_accuracy',\n",
    "        max_trials=10,  # Number of different hyperparameter combinations to try\n",
    "        executions_per_trial=1,  # Number of executions for each trial\n",
    "        directory='cnn_tuner',\n",
    "        project_name=f'cnn_epoch_{epoch_count}'\n",
    "    )\n",
    "\n",
    "    # Start the hyperparameter search\n",
    "    tuner.search(\n",
    "        X_train, y_train,\n",
    "        epochs=epoch_count,\n",
    "        validation_split=0.2,\n",
    "        callbacks=[early_stopping]\n",
    "    )\n",
    "\n",
    "    # Retrieve the best hyperparameters\n",
    "    best_hps = tuner.get_best_hyperparameters(num_trials=1)[0]\n",
    "    print(f\"Best hyperparameters for {epoch_count} epochs: {best_hps.values}\")"
   ]
  },
  {
   "cell_type": "markdown",
   "id": "cf17d54a-a85d-4e46-b938-a49d3c009e04",
   "metadata": {},
   "source": [
    "### Best hyperparameters"
   ]
  },
  {
   "cell_type": "code",
   "execution_count": 248,
   "id": "f8681898-701d-4b3f-8160-c3e26b63bce4",
   "metadata": {},
   "outputs": [
    {
     "name": "stdout",
     "output_type": "stream",
     "text": [
      "Best Hyperparameters:\n",
      "filters_1: 224\n",
      "kernel_height_1: 3\n",
      "kernel_width_1: 3\n",
      "activation_1: relu\n",
      "filters_2: 64\n",
      "activation_2: tanh\n",
      "dropout_1: 0.1\n",
      "dense_units: 1024\n",
      "dense_activation: relu\n",
      "dropout_2: 0.2\n",
      "learning_rate: 0.00031255246099284477\n"
     ]
    }
   ],
   "source": [
    "# Retrieve the best hyperparameters\n",
    "best_hyperparameters = tuner.get_best_hyperparameters(num_trials=1)[0]\n",
    "\n",
    "# Print the best hyperparameters\n",
    "print(\"Best Hyperparameters:\")\n",
    "for hp_name, hp_value in best_hyperparameters.values.items():\n",
    "    print(f\"{hp_name}: {hp_value}\")"
   ]
  },
  {
   "cell_type": "code",
   "execution_count": 249,
   "id": "e01e6edd-0e9c-4c77-ad32-9244b1d1e999",
   "metadata": {},
   "outputs": [],
   "source": [
    "import pandas as pd\n",
    "\n",
    "# Retrieve the best hyperparameters\n",
    "best_hyperparameters = tuner.get_best_hyperparameters(num_trials=1)[0]\n",
    "\n",
    "# Convert hyperparameters to a pandas DataFrame\n",
    "hyperparameters_df = pd.DataFrame(list(best_hyperparameters.values.items()), columns=[\"Hyperparameter\", \"Value\"])"
   ]
  },
  {
   "cell_type": "code",
   "execution_count": 250,
   "id": "c4b5833e-acb0-4dcd-b683-0b0947b228fe",
   "metadata": {},
   "outputs": [
    {
     "data": {
      "text/html": [
       "<div>\n",
       "<style scoped>\n",
       "    .dataframe tbody tr th:only-of-type {\n",
       "        vertical-align: middle;\n",
       "    }\n",
       "\n",
       "    .dataframe tbody tr th {\n",
       "        vertical-align: top;\n",
       "    }\n",
       "\n",
       "    .dataframe thead th {\n",
       "        text-align: right;\n",
       "    }\n",
       "</style>\n",
       "<table border=\"1\" class=\"dataframe\">\n",
       "  <thead>\n",
       "    <tr style=\"text-align: right;\">\n",
       "      <th></th>\n",
       "      <th>Hyperparameter</th>\n",
       "      <th>Value</th>\n",
       "    </tr>\n",
       "  </thead>\n",
       "  <tbody>\n",
       "    <tr>\n",
       "      <th>0</th>\n",
       "      <td>filters_1</td>\n",
       "      <td>224</td>\n",
       "    </tr>\n",
       "    <tr>\n",
       "      <th>1</th>\n",
       "      <td>kernel_height_1</td>\n",
       "      <td>3</td>\n",
       "    </tr>\n",
       "    <tr>\n",
       "      <th>2</th>\n",
       "      <td>kernel_width_1</td>\n",
       "      <td>3</td>\n",
       "    </tr>\n",
       "    <tr>\n",
       "      <th>3</th>\n",
       "      <td>activation_1</td>\n",
       "      <td>relu</td>\n",
       "    </tr>\n",
       "    <tr>\n",
       "      <th>4</th>\n",
       "      <td>filters_2</td>\n",
       "      <td>64</td>\n",
       "    </tr>\n",
       "    <tr>\n",
       "      <th>5</th>\n",
       "      <td>activation_2</td>\n",
       "      <td>tanh</td>\n",
       "    </tr>\n",
       "    <tr>\n",
       "      <th>6</th>\n",
       "      <td>dropout_1</td>\n",
       "      <td>0.1</td>\n",
       "    </tr>\n",
       "    <tr>\n",
       "      <th>7</th>\n",
       "      <td>dense_units</td>\n",
       "      <td>1024</td>\n",
       "    </tr>\n",
       "    <tr>\n",
       "      <th>8</th>\n",
       "      <td>dense_activation</td>\n",
       "      <td>relu</td>\n",
       "    </tr>\n",
       "    <tr>\n",
       "      <th>9</th>\n",
       "      <td>dropout_2</td>\n",
       "      <td>0.2</td>\n",
       "    </tr>\n",
       "    <tr>\n",
       "      <th>10</th>\n",
       "      <td>learning_rate</td>\n",
       "      <td>0.000313</td>\n",
       "    </tr>\n",
       "  </tbody>\n",
       "</table>\n",
       "</div>"
      ],
      "text/plain": [
       "      Hyperparameter     Value\n",
       "0          filters_1       224\n",
       "1    kernel_height_1         3\n",
       "2     kernel_width_1         3\n",
       "3       activation_1      relu\n",
       "4          filters_2        64\n",
       "5       activation_2      tanh\n",
       "6          dropout_1       0.1\n",
       "7        dense_units      1024\n",
       "8   dense_activation      relu\n",
       "9          dropout_2       0.2\n",
       "10     learning_rate  0.000313"
      ]
     },
     "execution_count": 250,
     "metadata": {},
     "output_type": "execute_result"
    }
   ],
   "source": [
    "hyperparameters_df"
   ]
  },
  {
   "cell_type": "markdown",
   "id": "3616deea-3ceb-4377-9573-5b70f8afeaa4",
   "metadata": {},
   "source": [
    "### Best hyperparameters for diffrenet epochs"
   ]
  },
  {
   "cell_type": "code",
   "execution_count": 241,
   "id": "94de953d-8f2c-4347-a04f-cadd18a7a9fb",
   "metadata": {},
   "outputs": [
    {
     "name": "stdout",
     "output_type": "stream",
     "text": [
      "Reloading Tuner from cnn_tuner/cnn_epoch_50/tuner0.json\n",
      "Reloading Tuner from cnn_tuner/cnn_epoch_100/tuner0.json\n"
     ]
    }
   ],
   "source": [
    "import pandas as pd\n",
    "\n",
    "# Initialize a list to hold dictionaries of hyperparameters for each epoch count\n",
    "hyperparameters_list = []\n",
    "\n",
    "for epoch_count in possible_epochs:\n",
    "    # Retrieve the stored Keras Tuner object for each epoch\n",
    "    tuner = kt.RandomSearch(\n",
    "        cnn_hypermodel,\n",
    "        objective='val_accuracy',\n",
    "        max_trials=10,  # Number of different hyperparameter combinations to try\n",
    "        executions_per_trial=1,  # Number of executions for each trial\n",
    "        directory='cnn_tuner',\n",
    "        project_name=f'cnn_epoch_{epoch_count}'\n",
    "    )\n",
    "\n",
    "    # Get best hyperparameters\n",
    "    best_hyperparameters = tuner.get_best_hyperparameters(num_trials=1)[0].values\n",
    "\n",
    "    # Add the epoch count to the dictionary of hyperparameters\n",
    "    hyperparameters = {\"epoch_count\": epoch_count, **best_hyperparameters}\n",
    "\n",
    "    # Append the dictionary to the list\n",
    "    hyperparameters_list.append(hyperparameters)\n",
    "\n",
    "# Create a DataFrame from the list of hyperparameter dictionaries\n",
    "best_params_df = pd.DataFrame(hyperparameters_list)\n",
    "\n",
    "# Specify columns to keep\n",
    "columns_to_keep = [\n",
    "    'epoch_count', 'filters_1', 'kernel_height_1', 'kernel_width_1', \n",
    "    'activation_1', 'filters_2', 'activation_2', 'dropout_1', \n",
    "    'dense_units', 'dense_activation', 'dropout_2'\n",
    "]\n",
    "\n",
    "# Filter DataFrame to display only the desired columns\n",
    "best_params_df_filtered = best_params_df[columns_to_keep]\n"
   ]
  },
  {
   "cell_type": "code",
   "execution_count": 243,
   "id": "1bb4f10b-1368-4973-9dad-eaa834c89dbd",
   "metadata": {},
   "outputs": [
    {
     "data": {
      "text/html": [
       "<div>\n",
       "<style scoped>\n",
       "    .dataframe tbody tr th:only-of-type {\n",
       "        vertical-align: middle;\n",
       "    }\n",
       "\n",
       "    .dataframe tbody tr th {\n",
       "        vertical-align: top;\n",
       "    }\n",
       "\n",
       "    .dataframe thead th {\n",
       "        text-align: right;\n",
       "    }\n",
       "</style>\n",
       "<table border=\"1\" class=\"dataframe\">\n",
       "  <thead>\n",
       "    <tr style=\"text-align: right;\">\n",
       "      <th></th>\n",
       "      <th>epoch_count</th>\n",
       "      <th>filters_1</th>\n",
       "      <th>kernel_height_1</th>\n",
       "      <th>kernel_width_1</th>\n",
       "      <th>activation_1</th>\n",
       "      <th>filters_2</th>\n",
       "      <th>activation_2</th>\n",
       "      <th>dropout_1</th>\n",
       "      <th>dense_units</th>\n",
       "      <th>dense_activation</th>\n",
       "      <th>dropout_2</th>\n",
       "    </tr>\n",
       "  </thead>\n",
       "  <tbody>\n",
       "    <tr>\n",
       "      <th>0</th>\n",
       "      <td>50</td>\n",
       "      <td>192</td>\n",
       "      <td>3</td>\n",
       "      <td>3</td>\n",
       "      <td>tanh</td>\n",
       "      <td>160</td>\n",
       "      <td>relu</td>\n",
       "      <td>0.4</td>\n",
       "      <td>512</td>\n",
       "      <td>relu</td>\n",
       "      <td>0.3</td>\n",
       "    </tr>\n",
       "    <tr>\n",
       "      <th>1</th>\n",
       "      <td>100</td>\n",
       "      <td>224</td>\n",
       "      <td>3</td>\n",
       "      <td>3</td>\n",
       "      <td>relu</td>\n",
       "      <td>64</td>\n",
       "      <td>tanh</td>\n",
       "      <td>0.1</td>\n",
       "      <td>1024</td>\n",
       "      <td>relu</td>\n",
       "      <td>0.2</td>\n",
       "    </tr>\n",
       "  </tbody>\n",
       "</table>\n",
       "</div>"
      ],
      "text/plain": [
       "   epoch_count  filters_1  kernel_height_1  kernel_width_1 activation_1  \\\n",
       "0           50        192                3               3         tanh   \n",
       "1          100        224                3               3         relu   \n",
       "\n",
       "   filters_2 activation_2  dropout_1  dense_units dense_activation  dropout_2  \n",
       "0        160         relu        0.4          512             relu        0.3  \n",
       "1         64         tanh        0.1         1024             relu        0.2  "
      ]
     },
     "execution_count": 243,
     "metadata": {},
     "output_type": "execute_result"
    }
   ],
   "source": [
    "best_params_df_filtered"
   ]
  },
  {
   "cell_type": "markdown",
   "id": "cf880461-04ae-4890-a149-5e30377579d3",
   "metadata": {},
   "source": [
    "### Best Model Test"
   ]
  },
  {
   "cell_type": "code",
   "execution_count": 226,
   "id": "29fc56ce-def3-4c4f-9a17-9e16c392d5d1",
   "metadata": {},
   "outputs": [],
   "source": [
    "# Retrieve the best model\n",
    "best_model = tuner.get_best_models(num_models=1)[0]"
   ]
  },
  {
   "cell_type": "code",
   "execution_count": 227,
   "id": "bc330fcd-a408-421c-b906-70280eb95e93",
   "metadata": {},
   "outputs": [],
   "source": [
    "best_model.save('best_cnn_2d_model.keras')"
   ]
  },
  {
   "cell_type": "code",
   "execution_count": 228,
   "id": "fbc33e37-c36f-4f3b-b302-5aa665829076",
   "metadata": {},
   "outputs": [
    {
     "name": "stdout",
     "output_type": "stream",
     "text": [
      "0.9524000287055969\n"
     ]
    }
   ],
   "source": [
    "test_accuracy=best_model.evaluate(X_test,y_test,verbose=0)\n",
    "print(test_accuracy[1])"
   ]
  },
  {
   "cell_type": "code",
   "execution_count": 229,
   "id": "f84edf2d-cb21-4091-89bd-08ab3210c6d2",
   "metadata": {},
   "outputs": [
    {
     "name": "stdout",
     "output_type": "stream",
     "text": [
      "Best Hyperparameters:\n",
      "filters_1: 224\n",
      "kernel_height_1: 3\n",
      "kernel_width_1: 3\n",
      "activation_1: relu\n",
      "filters_2: 64\n",
      "activation_2: tanh\n",
      "dropout_1: 0.1\n",
      "dense_units: 1024\n",
      "dense_activation: relu\n",
      "dropout_2: 0.2\n",
      "learning_rate: 0.00031255246099284477\n"
     ]
    }
   ],
   "source": [
    "# Retrieve the best hyperparameters\n",
    "best_hyperparameters = tuner.get_best_hyperparameters(num_trials=1)[0]\n",
    "\n",
    "# Print the best hyperparameters\n",
    "print(\"Best Hyperparameters:\")\n",
    "for hp_name, hp_value in best_hyperparameters.values.items():\n",
    "    print(f\"{hp_name}: {hp_value}\")"
   ]
  },
  {
   "cell_type": "markdown",
   "id": "70dc0229-390c-446d-90be-e6bc4b33f7fc",
   "metadata": {},
   "source": [
    "## Train the Best Model again"
   ]
  },
  {
   "cell_type": "code",
   "execution_count": 244,
   "id": "f7edc729-1ea1-40a8-885a-319498d92106",
   "metadata": {},
   "outputs": [
    {
     "name": "stdout",
     "output_type": "stream",
     "text": [
      "Epoch 1/100\n",
      "1000/1000 [==============================] - 12s 11ms/step - loss: 1.4846 - accuracy: 0.4839 - val_loss: 1.2665 - val_accuracy: 0.5562\n",
      "Epoch 2/100\n",
      "1000/1000 [==============================] - 11s 11ms/step - loss: 1.1224 - accuracy: 0.6077 - val_loss: 1.0271 - val_accuracy: 0.6421\n",
      "Epoch 3/100\n",
      "1000/1000 [==============================] - 11s 11ms/step - loss: 0.9646 - accuracy: 0.6654 - val_loss: 0.9021 - val_accuracy: 0.6917\n",
      "Epoch 4/100\n",
      "1000/1000 [==============================] - 11s 11ms/step - loss: 0.8512 - accuracy: 0.7027 - val_loss: 0.8041 - val_accuracy: 0.7253\n",
      "Epoch 5/100\n",
      "1000/1000 [==============================] - 11s 11ms/step - loss: 0.7696 - accuracy: 0.7340 - val_loss: 0.7535 - val_accuracy: 0.7441\n",
      "Epoch 6/100\n",
      "1000/1000 [==============================] - 11s 11ms/step - loss: 0.7033 - accuracy: 0.7601 - val_loss: 0.6699 - val_accuracy: 0.7717\n",
      "Epoch 7/100\n",
      "1000/1000 [==============================] - 11s 11ms/step - loss: 0.6513 - accuracy: 0.7763 - val_loss: 0.6160 - val_accuracy: 0.8016\n",
      "Epoch 8/100\n",
      "1000/1000 [==============================] - 11s 11ms/step - loss: 0.6033 - accuracy: 0.7923 - val_loss: 0.5770 - val_accuracy: 0.8104\n",
      "Epoch 9/100\n",
      "1000/1000 [==============================] - 11s 11ms/step - loss: 0.5638 - accuracy: 0.8080 - val_loss: 0.5407 - val_accuracy: 0.8159\n",
      "Epoch 10/100\n",
      "1000/1000 [==============================] - 11s 11ms/step - loss: 0.5292 - accuracy: 0.8191 - val_loss: 0.5187 - val_accuracy: 0.8315\n",
      "Epoch 11/100\n",
      "1000/1000 [==============================] - 11s 11ms/step - loss: 0.4956 - accuracy: 0.8309 - val_loss: 0.4794 - val_accuracy: 0.8404\n",
      "Epoch 12/100\n",
      "1000/1000 [==============================] - 11s 11ms/step - loss: 0.4685 - accuracy: 0.8410 - val_loss: 0.4697 - val_accuracy: 0.8345\n",
      "Epoch 13/100\n",
      "1000/1000 [==============================] - 11s 11ms/step - loss: 0.4464 - accuracy: 0.8473 - val_loss: 0.4291 - val_accuracy: 0.8534\n",
      "Epoch 14/100\n",
      "1000/1000 [==============================] - 11s 11ms/step - loss: 0.4217 - accuracy: 0.8548 - val_loss: 0.4421 - val_accuracy: 0.8519\n",
      "Epoch 15/100\n",
      "1000/1000 [==============================] - 11s 11ms/step - loss: 0.4098 - accuracy: 0.8581 - val_loss: 0.3924 - val_accuracy: 0.8601\n",
      "Epoch 16/100\n",
      "1000/1000 [==============================] - 11s 11ms/step - loss: 0.3913 - accuracy: 0.8668 - val_loss: 0.3855 - val_accuracy: 0.8683\n",
      "Epoch 17/100\n",
      "1000/1000 [==============================] - 11s 11ms/step - loss: 0.3760 - accuracy: 0.8715 - val_loss: 0.3725 - val_accuracy: 0.8741\n",
      "Epoch 18/100\n",
      "1000/1000 [==============================] - 11s 11ms/step - loss: 0.3617 - accuracy: 0.8751 - val_loss: 0.3482 - val_accuracy: 0.8836\n",
      "Epoch 19/100\n",
      "1000/1000 [==============================] - 11s 11ms/step - loss: 0.3531 - accuracy: 0.8789 - val_loss: 0.3601 - val_accuracy: 0.8716\n",
      "Epoch 20/100\n",
      "1000/1000 [==============================] - 11s 11ms/step - loss: 0.3372 - accuracy: 0.8831 - val_loss: 0.3932 - val_accuracy: 0.8649\n",
      "Epoch 21/100\n",
      "1000/1000 [==============================] - 11s 11ms/step - loss: 0.3271 - accuracy: 0.8873 - val_loss: 0.3570 - val_accuracy: 0.8626\n",
      "Epoch 22/100\n",
      "1000/1000 [==============================] - 11s 11ms/step - loss: 0.3155 - accuracy: 0.8906 - val_loss: 0.3030 - val_accuracy: 0.8986\n",
      "Epoch 23/100\n",
      "1000/1000 [==============================] - 11s 11ms/step - loss: 0.3019 - accuracy: 0.8962 - val_loss: 0.3044 - val_accuracy: 0.8891\n",
      "Epoch 24/100\n",
      "1000/1000 [==============================] - 11s 11ms/step - loss: 0.2972 - accuracy: 0.8969 - val_loss: 0.3091 - val_accuracy: 0.8961\n",
      "Epoch 25/100\n",
      "1000/1000 [==============================] - 11s 11ms/step - loss: 0.2884 - accuracy: 0.9008 - val_loss: 0.2917 - val_accuracy: 0.9000\n",
      "Epoch 26/100\n",
      "1000/1000 [==============================] - 11s 11ms/step - loss: 0.2804 - accuracy: 0.9030 - val_loss: 0.2663 - val_accuracy: 0.9045\n",
      "Epoch 27/100\n",
      "1000/1000 [==============================] - 11s 11ms/step - loss: 0.2728 - accuracy: 0.9064 - val_loss: 0.2974 - val_accuracy: 0.8972\n",
      "Epoch 28/100\n",
      "1000/1000 [==============================] - 11s 11ms/step - loss: 0.2658 - accuracy: 0.9079 - val_loss: 0.3084 - val_accuracy: 0.8866\n",
      "Epoch 29/100\n",
      "1000/1000 [==============================] - 11s 11ms/step - loss: 0.2616 - accuracy: 0.9091 - val_loss: 0.2642 - val_accuracy: 0.9122\n",
      "Epoch 30/100\n",
      "1000/1000 [==============================] - 11s 11ms/step - loss: 0.2495 - accuracy: 0.9138 - val_loss: 0.2829 - val_accuracy: 0.9040\n",
      "Epoch 31/100\n",
      "1000/1000 [==============================] - 11s 11ms/step - loss: 0.2501 - accuracy: 0.9130 - val_loss: 0.2650 - val_accuracy: 0.9057\n",
      "Epoch 32/100\n",
      "1000/1000 [==============================] - 11s 11ms/step - loss: 0.2427 - accuracy: 0.9151 - val_loss: 0.2462 - val_accuracy: 0.9144\n",
      "Epoch 33/100\n",
      "1000/1000 [==============================] - 11s 11ms/step - loss: 0.2369 - accuracy: 0.9178 - val_loss: 0.2539 - val_accuracy: 0.9178\n",
      "Epoch 34/100\n",
      "1000/1000 [==============================] - 11s 11ms/step - loss: 0.2331 - accuracy: 0.9191 - val_loss: 0.2436 - val_accuracy: 0.9261\n",
      "Epoch 35/100\n",
      "1000/1000 [==============================] - 11s 11ms/step - loss: 0.2259 - accuracy: 0.9217 - val_loss: 0.2208 - val_accuracy: 0.9287\n",
      "Epoch 36/100\n",
      "1000/1000 [==============================] - 11s 11ms/step - loss: 0.2230 - accuracy: 0.9225 - val_loss: 0.2252 - val_accuracy: 0.9260\n",
      "Epoch 37/100\n",
      "1000/1000 [==============================] - 11s 11ms/step - loss: 0.2176 - accuracy: 0.9248 - val_loss: 0.2130 - val_accuracy: 0.9333\n",
      "Epoch 38/100\n",
      "1000/1000 [==============================] - 11s 11ms/step - loss: 0.2156 - accuracy: 0.9249 - val_loss: 0.2344 - val_accuracy: 0.9155\n",
      "Epoch 39/100\n",
      "1000/1000 [==============================] - 11s 11ms/step - loss: 0.2122 - accuracy: 0.9268 - val_loss: 0.2162 - val_accuracy: 0.9304\n",
      "Epoch 40/100\n",
      "1000/1000 [==============================] - 11s 11ms/step - loss: 0.2111 - accuracy: 0.9273 - val_loss: 0.2117 - val_accuracy: 0.9311\n",
      "Epoch 41/100\n",
      "1000/1000 [==============================] - 11s 11ms/step - loss: 0.2044 - accuracy: 0.9303 - val_loss: 0.2182 - val_accuracy: 0.9245\n",
      "Epoch 42/100\n",
      "1000/1000 [==============================] - 11s 11ms/step - loss: 0.2051 - accuracy: 0.9295 - val_loss: 0.2314 - val_accuracy: 0.9137\n",
      "Epoch 43/100\n",
      "1000/1000 [==============================] - 11s 11ms/step - loss: 0.2031 - accuracy: 0.9291 - val_loss: 0.2170 - val_accuracy: 0.9189\n",
      "Epoch 44/100\n",
      "1000/1000 [==============================] - 11s 11ms/step - loss: 0.1963 - accuracy: 0.9318 - val_loss: 0.2280 - val_accuracy: 0.9211\n",
      "Epoch 45/100\n",
      "1000/1000 [==============================] - ETA: 0s - loss: 0.1921 - accuracy: 0.9337Restoring model weights from the end of the best epoch: 40.\n",
      "1000/1000 [==============================] - 11s 11ms/step - loss: 0.1921 - accuracy: 0.9337 - val_loss: 0.2370 - val_accuracy: 0.9170\n",
      "Epoch 45: early stopping\n"
     ]
    },
    {
     "data": {
      "image/png": "[encoded data removed]",
      "text/plain": [
       "<Figure size 1200x400 with 2 Axes>"
      ]
     },
     "metadata": {},
     "output_type": "display_data"
    }
   ],
   "source": [
    "# Rebuild the best model using the best hyperparameters\n",
    "best_hyperparameters = tuner.get_best_hyperparameters(num_trials=1)[0]\n",
    "\n",
    "# Initialize the hypermodel with input and output parameters\n",
    "cnn_hypermodel = CNNHyperModel(input_shape=input_shape, output_units=output_units)\n",
    "\n",
    "# Build the model using the best hyperparameters\n",
    "model = cnn_hypermodel.build(best_hyperparameters)\n",
    "\n",
    "# Train the model again, this time keeping track of the history for plotting\n",
    "history = model.fit(\n",
    "    X_train, y_train,\n",
    "    epochs=100,  # You can set an appropriate number of epochs here\n",
    "    validation_split=0.2,\n",
    "    callbacks=[early_stopping],\n",
    "    verbose=1\n",
    ")\n",
    "\n",
    "# Plotting Training and Validation Loss and Accuracy\n",
    "plt.figure(figsize=(12, 4))\n",
    "\n",
    "# Plotting loss\n",
    "plt.subplot(1, 2, 1)\n",
    "plt.plot(history.history['loss'], label='Training Loss')\n",
    "plt.plot(history.history['val_loss'], label='Validation Loss')\n",
    "plt.title('Loss')\n",
    "plt.xlabel('Epochs')\n",
    "plt.ylabel('Loss')\n",
    "plt.legend()\n",
    "\n",
    "# Plotting accuracy\n",
    "plt.subplot(1, 2, 2)\n",
    "plt.plot(history.history['accuracy'], label='Training Accuracy')\n",
    "plt.plot(history.history['val_accuracy'], label='Validation Accuracy')\n",
    "plt.title('Accuracy')\n",
    "plt.xlabel('Epochs')\n",
    "plt.ylabel('Accuracy')\n",
    "plt.legend()\n",
    "\n",
    "plt.show()"
   ]
  },
  {
   "cell_type": "code",
   "execution_count": 245,
   "id": "3d4f5fe4-66fe-4a25-93d0-9ca886fcc239",
   "metadata": {},
   "outputs": [
    {
     "name": "stdout",
     "output_type": "stream",
     "text": [
      "0.9373999834060669\n"
     ]
    }
   ],
   "source": [
    "test_accuracy=model.evaluate(X_test,y_test,verbose=0)\n",
    "print(test_accuracy[1])"
   ]
  },
  {
   "cell_type": "code",
   "execution_count": 255,
   "id": "b97e9350-c4bc-4f4a-aef2-28bc1a12fe7e",
   "metadata": {},
   "outputs": [
    {
     "name": "stdout",
     "output_type": "stream",
     "text": [
      "Model: \"sequential_2\"\n",
      "_________________________________________________________________\n",
      " Layer (type)                Output Shape              Param #   \n",
      "=================================================================\n",
      " conv2d_4 (Conv2D)           (None, 16, 8, 224)        2240      \n",
      "                                                                 \n",
      " max_pooling2d_4 (MaxPoolin  (None, 8, 4, 224)         0         \n",
      " g2D)                                                            \n",
      "                                                                 \n",
      " conv2d_5 (Conv2D)           (None, 8, 4, 64)          129088    \n",
      "                                                                 \n",
      " max_pooling2d_5 (MaxPoolin  (None, 4, 2, 64)          0         \n",
      " g2D)                                                            \n",
      "                                                                 \n",
      " dropout_4 (Dropout)         (None, 4, 2, 64)          0         \n",
      "                                                                 \n",
      " flatten_2 (Flatten)         (None, 512)               0         \n",
      "                                                                 \n",
      " dense_4 (Dense)             (None, 1024)              525312    \n",
      "                                                                 \n",
      " dropout_5 (Dropout)         (None, 1024)              0         \n",
      "                                                                 \n",
      " dense_5 (Dense)             (None, 10)                10250     \n",
      "                                                                 \n",
      "=================================================================\n",
      "Total params: 666890 (2.54 MB)\n",
      "Trainable params: 666890 (2.54 MB)\n",
      "Non-trainable params: 0 (0.00 Byte)\n",
      "_________________________________________________________________\n"
     ]
    }
   ],
   "source": [
    "model.summary()"
   ]
  },
  {
   "cell_type": "markdown",
   "id": "60bdf229-2111-4219-b117-ffe7783adb0b",
   "metadata": {},
   "source": [
    "## Classfication Report "
   ]
  },
  {
   "cell_type": "code",
   "execution_count": 267,
   "id": "b89ee73c-ddb5-49dc-aee4-c67f841a4715",
   "metadata": {},
   "outputs": [
    {
     "name": "stdout",
     "output_type": "stream",
     "text": [
      "313/313 [==============================] - 1s 3ms/step\n",
      "                  precision    recall  f1-score   support\n",
      "\n",
      " air_conditioner       0.70      0.97      0.81      1016\n",
      "        car_horn       1.00      0.96      0.98      1010\n",
      "children_playing       0.84      0.83      0.84       939\n",
      "        dog_bark       0.98      0.85      0.91       987\n",
      "        drilling       0.97      0.97      0.97      1000\n",
      "   engine_idling       0.97      0.95      0.96       993\n",
      "        gun_shot       1.00      0.97      0.98       986\n",
      "      jackhammer       0.99      0.99      0.99      1072\n",
      "           siren       0.95      0.91      0.93      1032\n",
      "    street_music       0.98      0.85      0.91       965\n",
      "\n",
      "        accuracy                           0.93     10000\n",
      "       macro avg       0.94      0.92      0.93     10000\n",
      "    weighted avg       0.94      0.93      0.93     10000\n",
      "\n"
     ]
    }
   ],
   "source": [
    "import matplotlib.pyplot as plt\n",
    "from sklearn.metrics import classification_report, confusion_matrix, ConfusionMatrixDisplay\n",
    "\n",
    "# Example of class names\n",
    "class_names = ['air_conditioner', 'car_horn', 'children_playing', 'dog_bark', 'drilling', 'engine_idling', 'gun_shot', 'jackhammer', 'siren', 'street_music']\n",
    "\n",
    "# Generate predictions for the test set\n",
    "y_pred = (model.predict(X_test) > 0.).astype(\"int32\")\n",
    "\n",
    "# Get the class labels from the one-hot encoded predictions and true values\n",
    "y_pred_classes = np.argmax(y_pred, axis=-1)\n",
    "y_test_classes = np.argmax(y_test, axis=-1)\n",
    "\n",
    "# Print the classification report\n",
    "print(classification_report(y_test_classes, y_pred_classes, target_names=class_names))"
   ]
  },
  {
   "cell_type": "markdown",
   "id": "0ecd06f8-61b0-452c-ae7b-e9b88973cb3b",
   "metadata": {},
   "source": [
    "## Confution Matrix"
   ]
  },
  {
   "cell_type": "code",
   "execution_count": 259,
   "id": "d677a76c-d2e0-4178-9e6b-9b57946b3ec9",
   "metadata": {},
   "outputs": [
    {
     "data": {
      "image/png": "[encoded data removed]",
      "text/plain": [
       "<Figure size 1200x1000 with 2 Axes>"
      ]
     },
     "metadata": {},
     "output_type": "display_data"
    }
   ],
   "source": [
    "# Create confusion matrix\n",
    "conf_matrix = confusion_matrix(y_test_classes, y_pred_classes)\n",
    "\n",
    "# Plot the confusion matrix\n",
    "fig, ax = plt.subplots(figsize=(12, 10))  # Specify figure size directly in subplots\n",
    "\n",
    "disp = ConfusionMatrixDisplay(confusion_matrix=conf_matrix, display_labels=class_names)\n",
    "\n",
    "disp.plot(cmap=plt.cm.Blues, ax=ax)  # Pass the axis to the plot method\n",
    "\n",
    "ax.set_xticklabels(disp.display_labels, rotation=45, ha='right')  # Rotate class names on x-axis for better readability\n",
    "\n",
    "plt.show()"
   ]
  }
 ],
 "metadata": {
  "kernelspec": {
   "display_name": "Python 3 (ipykernel)",
   "language": "python",
   "name": "python3"
  },
  "language_info": {
   "codemirror_mode": {
    "name": "ipython",
    "version": 3
   },
   "file_extension": ".py",
   "mimetype": "text/x-python",
   "name": "python",
   "nbconvert_exporter": "python",
   "pygments_lexer": "ipython3",
   "version": "3.11.7"
  }
 },
 "nbformat": 4,
 "nbformat_minor": 5
}
