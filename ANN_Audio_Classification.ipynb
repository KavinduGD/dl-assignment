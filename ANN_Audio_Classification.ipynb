{
 "cells": [
  {
   "cell_type": "markdown",
   "id": "04be981c-7d2e-429e-9310-b3652bb66296",
   "metadata": {},
   "source": [
    "# ANN Model for Urban Sound Classification"
   ]
  },
  {
   "cell_type": "markdown",
   "id": "7580baed-d5e0-4397-bbf0-f448a9eaa2ff",
   "metadata": {},
   "source": [
    "## Installing Required Libraries"
   ]
  },
  {
   "cell_type": "code",
   "execution_count": 63,
   "id": "453a20a4-45f4-4b07-b275-5cad33555667",
   "metadata": {},
   "outputs": [
    {
     "name": "stdout",
     "output_type": "stream",
     "text": [
      "Requirement already satisfied: librosa in f:\\se\\miniconda3\\envs\\audio_classification\\lib\\site-packages (0.10.2.post1)\n",
      "Requirement already satisfied: audioread>=2.1.9 in f:\\se\\miniconda3\\envs\\audio_classification\\lib\\site-packages (from librosa) (3.0.1)\n",
      "Requirement already satisfied: numpy!=1.22.0,!=1.22.1,!=1.22.2,>=1.20.3 in f:\\se\\miniconda3\\envs\\audio_classification\\lib\\site-packages (from librosa) (1.26.4)\n",
      "Requirement already satisfied: scipy>=1.2.0 in f:\\se\\miniconda3\\envs\\audio_classification\\lib\\site-packages (from librosa) (1.14.1)\n",
      "Requirement already satisfied: scikit-learn>=0.20.0 in f:\\se\\miniconda3\\envs\\audio_classification\\lib\\site-packages (from librosa) (1.5.2)\n",
      "Requirement already satisfied: joblib>=0.14 in f:\\se\\miniconda3\\envs\\audio_classification\\lib\\site-packages (from librosa) (1.4.2)\n",
      "Requirement already satisfied: decorator>=4.3.0 in f:\\se\\miniconda3\\envs\\audio_classification\\lib\\site-packages (from librosa) (5.1.1)\n",
      "Requirement already satisfied: numba>=0.51.0 in f:\\se\\miniconda3\\envs\\audio_classification\\lib\\site-packages (from librosa) (0.60.0)\n",
      "Requirement already satisfied: soundfile>=0.12.1 in f:\\se\\miniconda3\\envs\\audio_classification\\lib\\site-packages (from librosa) (0.12.1)\n",
      "Requirement already satisfied: pooch>=1.1 in f:\\se\\miniconda3\\envs\\audio_classification\\lib\\site-packages (from librosa) (1.8.2)\n",
      "Requirement already satisfied: soxr>=0.3.2 in f:\\se\\miniconda3\\envs\\audio_classification\\lib\\site-packages (from librosa) (0.5.0.post1)\n",
      "Requirement already satisfied: typing-extensions>=4.1.1 in f:\\se\\miniconda3\\envs\\audio_classification\\lib\\site-packages (from librosa) (4.11.0)\n",
      "Requirement already satisfied: lazy-loader>=0.1 in f:\\se\\miniconda3\\envs\\audio_classification\\lib\\site-packages (from librosa) (0.4)\n",
      "Requirement already satisfied: msgpack>=1.0 in f:\\se\\miniconda3\\envs\\audio_classification\\lib\\site-packages (from librosa) (1.1.0)\n",
      "Requirement already satisfied: packaging in f:\\se\\miniconda3\\envs\\audio_classification\\lib\\site-packages (from lazy-loader>=0.1->librosa) (24.1)\n",
      "Requirement already satisfied: llvmlite<0.44,>=0.43.0dev0 in f:\\se\\miniconda3\\envs\\audio_classification\\lib\\site-packages (from numba>=0.51.0->librosa) (0.43.0)\n",
      "Requirement already satisfied: platformdirs>=2.5.0 in f:\\se\\miniconda3\\envs\\audio_classification\\lib\\site-packages (from pooch>=1.1->librosa) (3.10.0)\n",
      "Requirement already satisfied: requests>=2.19.0 in f:\\se\\miniconda3\\envs\\audio_classification\\lib\\site-packages (from pooch>=1.1->librosa) (2.32.3)\n",
      "Requirement already satisfied: threadpoolctl>=3.1.0 in f:\\se\\miniconda3\\envs\\audio_classification\\lib\\site-packages (from scikit-learn>=0.20.0->librosa) (3.5.0)\n",
      "Requirement already satisfied: cffi>=1.0 in f:\\se\\miniconda3\\envs\\audio_classification\\lib\\site-packages (from soundfile>=0.12.1->librosa) (1.17.1)\n",
      "Requirement already satisfied: pycparser in f:\\se\\miniconda3\\envs\\audio_classification\\lib\\site-packages (from cffi>=1.0->soundfile>=0.12.1->librosa) (2.21)\n",
      "Requirement already satisfied: charset-normalizer<4,>=2 in f:\\se\\miniconda3\\envs\\audio_classification\\lib\\site-packages (from requests>=2.19.0->pooch>=1.1->librosa) (3.3.2)\n",
      "Requirement already satisfied: idna<4,>=2.5 in f:\\se\\miniconda3\\envs\\audio_classification\\lib\\site-packages (from requests>=2.19.0->pooch>=1.1->librosa) (3.7)\n",
      "Requirement already satisfied: urllib3<3,>=1.21.1 in f:\\se\\miniconda3\\envs\\audio_classification\\lib\\site-packages (from requests>=2.19.0->pooch>=1.1->librosa) (2.2.3)\n",
      "Requirement already satisfied: certifi>=2017.4.17 in f:\\se\\miniconda3\\envs\\audio_classification\\lib\\site-packages (from requests>=2.19.0->pooch>=1.1->librosa) (2024.8.30)\n"
     ]
    }
   ],
   "source": [
    "!pip install librosa"
   ]
  },
  {
   "cell_type": "code",
   "execution_count": 64,
   "id": "3214074a-522a-4e5f-b250-65638963f72b",
   "metadata": {},
   "outputs": [
    {
     "name": "stdout",
     "output_type": "stream",
     "text": [
      "Requirement already satisfied: tensorflow in f:\\se\\miniconda3\\envs\\audio_classification\\lib\\site-packages (2.17.0)\n",
      "Requirement already satisfied: tensorflow-intel==2.17.0 in f:\\se\\miniconda3\\envs\\audio_classification\\lib\\site-packages (from tensorflow) (2.17.0)\n",
      "Requirement already satisfied: absl-py>=1.0.0 in f:\\se\\miniconda3\\envs\\audio_classification\\lib\\site-packages (from tensorflow-intel==2.17.0->tensorflow) (2.1.0)\n",
      "Requirement already satisfied: astunparse>=1.6.0 in f:\\se\\miniconda3\\envs\\audio_classification\\lib\\site-packages (from tensorflow-intel==2.17.0->tensorflow) (1.6.3)\n",
      "Requirement already satisfied: flatbuffers>=24.3.25 in f:\\se\\miniconda3\\envs\\audio_classification\\lib\\site-packages (from tensorflow-intel==2.17.0->tensorflow) (24.3.25)\n",
      "Requirement already satisfied: gast!=0.5.0,!=0.5.1,!=0.5.2,>=0.2.1 in f:\\se\\miniconda3\\envs\\audio_classification\\lib\\site-packages (from tensorflow-intel==2.17.0->tensorflow) (0.6.0)\n",
      "Requirement already satisfied: google-pasta>=0.1.1 in f:\\se\\miniconda3\\envs\\audio_classification\\lib\\site-packages (from tensorflow-intel==2.17.0->tensorflow) (0.2.0)\n",
      "Requirement already satisfied: h5py>=3.10.0 in f:\\se\\miniconda3\\envs\\audio_classification\\lib\\site-packages (from tensorflow-intel==2.17.0->tensorflow) (3.12.1)\n",
      "Requirement already satisfied: libclang>=13.0.0 in f:\\se\\miniconda3\\envs\\audio_classification\\lib\\site-packages (from tensorflow-intel==2.17.0->tensorflow) (18.1.1)\n",
      "Requirement already satisfied: ml-dtypes<0.5.0,>=0.3.1 in f:\\se\\miniconda3\\envs\\audio_classification\\lib\\site-packages (from tensorflow-intel==2.17.0->tensorflow) (0.4.1)\n",
      "Requirement already satisfied: opt-einsum>=2.3.2 in f:\\se\\miniconda3\\envs\\audio_classification\\lib\\site-packages (from tensorflow-intel==2.17.0->tensorflow) (3.4.0)\n",
      "Requirement already satisfied: packaging in f:\\se\\miniconda3\\envs\\audio_classification\\lib\\site-packages (from tensorflow-intel==2.17.0->tensorflow) (24.1)\n",
      "Requirement already satisfied: protobuf!=4.21.0,!=4.21.1,!=4.21.2,!=4.21.3,!=4.21.4,!=4.21.5,<5.0.0dev,>=3.20.3 in f:\\se\\miniconda3\\envs\\audio_classification\\lib\\site-packages (from tensorflow-intel==2.17.0->tensorflow) (4.25.5)\n",
      "Requirement already satisfied: requests<3,>=2.21.0 in f:\\se\\miniconda3\\envs\\audio_classification\\lib\\site-packages (from tensorflow-intel==2.17.0->tensorflow) (2.32.3)\n",
      "Requirement already satisfied: setuptools in f:\\se\\miniconda3\\envs\\audio_classification\\lib\\site-packages (from tensorflow-intel==2.17.0->tensorflow) (75.1.0)\n",
      "Requirement already satisfied: six>=1.12.0 in f:\\se\\miniconda3\\envs\\audio_classification\\lib\\site-packages (from tensorflow-intel==2.17.0->tensorflow) (1.16.0)\n",
      "Requirement already satisfied: termcolor>=1.1.0 in f:\\se\\miniconda3\\envs\\audio_classification\\lib\\site-packages (from tensorflow-intel==2.17.0->tensorflow) (2.4.0)\n",
      "Requirement already satisfied: typing-extensions>=3.6.6 in f:\\se\\miniconda3\\envs\\audio_classification\\lib\\site-packages (from tensorflow-intel==2.17.0->tensorflow) (4.11.0)\n",
      "Requirement already satisfied: wrapt>=1.11.0 in f:\\se\\miniconda3\\envs\\audio_classification\\lib\\site-packages (from tensorflow-intel==2.17.0->tensorflow) (1.16.0)\n",
      "Requirement already satisfied: grpcio<2.0,>=1.24.3 in f:\\se\\miniconda3\\envs\\audio_classification\\lib\\site-packages (from tensorflow-intel==2.17.0->tensorflow) (1.66.2)\n",
      "Requirement already satisfied: tensorboard<2.18,>=2.17 in f:\\se\\miniconda3\\envs\\audio_classification\\lib\\site-packages (from tensorflow-intel==2.17.0->tensorflow) (2.17.1)\n",
      "Requirement already satisfied: keras>=3.2.0 in f:\\se\\miniconda3\\envs\\audio_classification\\lib\\site-packages (from tensorflow-intel==2.17.0->tensorflow) (3.6.0)\n",
      "Requirement already satisfied: numpy<2.0.0,>=1.26.0 in f:\\se\\miniconda3\\envs\\audio_classification\\lib\\site-packages (from tensorflow-intel==2.17.0->tensorflow) (1.26.4)\n",
      "Requirement already satisfied: wheel<1.0,>=0.23.0 in f:\\se\\miniconda3\\envs\\audio_classification\\lib\\site-packages (from astunparse>=1.6.0->tensorflow-intel==2.17.0->tensorflow) (0.44.0)\n",
      "Requirement already satisfied: rich in f:\\se\\miniconda3\\envs\\audio_classification\\lib\\site-packages (from keras>=3.2.0->tensorflow-intel==2.17.0->tensorflow) (13.9.2)\n",
      "Requirement already satisfied: namex in f:\\se\\miniconda3\\envs\\audio_classification\\lib\\site-packages (from keras>=3.2.0->tensorflow-intel==2.17.0->tensorflow) (0.0.8)\n",
      "Requirement already satisfied: optree in f:\\se\\miniconda3\\envs\\audio_classification\\lib\\site-packages (from keras>=3.2.0->tensorflow-intel==2.17.0->tensorflow) (0.13.0)\n",
      "Requirement already satisfied: charset-normalizer<4,>=2 in f:\\se\\miniconda3\\envs\\audio_classification\\lib\\site-packages (from requests<3,>=2.21.0->tensorflow-intel==2.17.0->tensorflow) (3.3.2)\n",
      "Requirement already satisfied: idna<4,>=2.5 in f:\\se\\miniconda3\\envs\\audio_classification\\lib\\site-packages (from requests<3,>=2.21.0->tensorflow-intel==2.17.0->tensorflow) (3.7)\n",
      "Requirement already satisfied: urllib3<3,>=1.21.1 in f:\\se\\miniconda3\\envs\\audio_classification\\lib\\site-packages (from requests<3,>=2.21.0->tensorflow-intel==2.17.0->tensorflow) (2.2.3)\n",
      "Requirement already satisfied: certifi>=2017.4.17 in f:\\se\\miniconda3\\envs\\audio_classification\\lib\\site-packages (from requests<3,>=2.21.0->tensorflow-intel==2.17.0->tensorflow) (2024.8.30)\n",
      "Requirement already satisfied: markdown>=2.6.8 in f:\\se\\miniconda3\\envs\\audio_classification\\lib\\site-packages (from tensorboard<2.18,>=2.17->tensorflow-intel==2.17.0->tensorflow) (3.7)\n",
      "Requirement already satisfied: tensorboard-data-server<0.8.0,>=0.7.0 in f:\\se\\miniconda3\\envs\\audio_classification\\lib\\site-packages (from tensorboard<2.18,>=2.17->tensorflow-intel==2.17.0->tensorflow) (0.7.2)\n",
      "Requirement already satisfied: werkzeug>=1.0.1 in f:\\se\\miniconda3\\envs\\audio_classification\\lib\\site-packages (from tensorboard<2.18,>=2.17->tensorflow-intel==2.17.0->tensorflow) (3.0.4)\n",
      "Requirement already satisfied: MarkupSafe>=2.1.1 in f:\\se\\miniconda3\\envs\\audio_classification\\lib\\site-packages (from werkzeug>=1.0.1->tensorboard<2.18,>=2.17->tensorflow-intel==2.17.0->tensorflow) (2.1.3)\n",
      "Requirement already satisfied: markdown-it-py>=2.2.0 in f:\\se\\miniconda3\\envs\\audio_classification\\lib\\site-packages (from rich->keras>=3.2.0->tensorflow-intel==2.17.0->tensorflow) (3.0.0)\n",
      "Requirement already satisfied: pygments<3.0.0,>=2.13.0 in f:\\se\\miniconda3\\envs\\audio_classification\\lib\\site-packages (from rich->keras>=3.2.0->tensorflow-intel==2.17.0->tensorflow) (2.15.1)\n",
      "Requirement already satisfied: mdurl~=0.1 in f:\\se\\miniconda3\\envs\\audio_classification\\lib\\site-packages (from markdown-it-py>=2.2.0->rich->keras>=3.2.0->tensorflow-intel==2.17.0->tensorflow) (0.1.2)\n"
     ]
    }
   ],
   "source": [
    "!pip install tensorflow"
   ]
  },
  {
   "cell_type": "code",
   "execution_count": 65,
   "id": "351ebdb5-56a6-41c6-8972-83211d978049",
   "metadata": {},
   "outputs": [
    {
     "name": "stdout",
     "output_type": "stream",
     "text": [
      "Requirement already satisfied: matplotlib in f:\\se\\miniconda3\\envs\\audio_classification\\lib\\site-packages (3.9.2)\n",
      "Requirement already satisfied: contourpy>=1.0.1 in f:\\se\\miniconda3\\envs\\audio_classification\\lib\\site-packages (from matplotlib) (1.3.0)\n",
      "Requirement already satisfied: cycler>=0.10 in f:\\se\\miniconda3\\envs\\audio_classification\\lib\\site-packages (from matplotlib) (0.12.1)\n",
      "Requirement already satisfied: fonttools>=4.22.0 in f:\\se\\miniconda3\\envs\\audio_classification\\lib\\site-packages (from matplotlib) (4.54.1)\n",
      "Requirement already satisfied: kiwisolver>=1.3.1 in f:\\se\\miniconda3\\envs\\audio_classification\\lib\\site-packages (from matplotlib) (1.4.7)\n",
      "Requirement already satisfied: numpy>=1.23 in f:\\se\\miniconda3\\envs\\audio_classification\\lib\\site-packages (from matplotlib) (1.26.4)\n",
      "Requirement already satisfied: packaging>=20.0 in f:\\se\\miniconda3\\envs\\audio_classification\\lib\\site-packages (from matplotlib) (24.1)\n",
      "Requirement already satisfied: pillow>=8 in f:\\se\\miniconda3\\envs\\audio_classification\\lib\\site-packages (from matplotlib) (10.4.0)\n",
      "Requirement already satisfied: pyparsing>=2.3.1 in f:\\se\\miniconda3\\envs\\audio_classification\\lib\\site-packages (from matplotlib) (3.1.4)\n",
      "Requirement already satisfied: python-dateutil>=2.7 in f:\\se\\miniconda3\\envs\\audio_classification\\lib\\site-packages (from matplotlib) (2.9.0.post0)\n",
      "Requirement already satisfied: six>=1.5 in f:\\se\\miniconda3\\envs\\audio_classification\\lib\\site-packages (from python-dateutil>=2.7->matplotlib) (1.16.0)\n"
     ]
    }
   ],
   "source": [
    "!pip install matplotlib"
   ]
  },
  {
   "cell_type": "code",
   "execution_count": 66,
   "id": "4fd2a0a4-efaa-43fe-9aea-2d3ccf761c8b",
   "metadata": {},
   "outputs": [
    {
     "name": "stdout",
     "output_type": "stream",
     "text": [
      "Requirement already satisfied: pandas in f:\\se\\miniconda3\\envs\\audio_classification\\lib\\site-packages (2.2.3)\n",
      "Requirement already satisfied: numpy>=1.26.0 in f:\\se\\miniconda3\\envs\\audio_classification\\lib\\site-packages (from pandas) (1.26.4)\n",
      "Requirement already satisfied: python-dateutil>=2.8.2 in f:\\se\\miniconda3\\envs\\audio_classification\\lib\\site-packages (from pandas) (2.9.0.post0)\n",
      "Requirement already satisfied: pytz>=2020.1 in f:\\se\\miniconda3\\envs\\audio_classification\\lib\\site-packages (from pandas) (2024.1)\n",
      "Requirement already satisfied: tzdata>=2022.7 in f:\\se\\miniconda3\\envs\\audio_classification\\lib\\site-packages (from pandas) (2024.2)\n",
      "Requirement already satisfied: six>=1.5 in f:\\se\\miniconda3\\envs\\audio_classification\\lib\\site-packages (from python-dateutil>=2.8.2->pandas) (1.16.0)\n"
     ]
    }
   ],
   "source": [
    "!pip install pandas"
   ]
  },
  {
   "cell_type": "code",
   "execution_count": 67,
   "id": "22200bcc-d5b1-46f2-a55c-e0e6d52770e4",
   "metadata": {},
   "outputs": [
    {
     "name": "stdout",
     "output_type": "stream",
     "text": [
      "Requirement already satisfied: tqdm in f:\\se\\miniconda3\\envs\\audio_classification\\lib\\site-packages (4.66.5)\n",
      "Requirement already satisfied: colorama in f:\\se\\miniconda3\\envs\\audio_classification\\lib\\site-packages (from tqdm) (0.4.6)\n"
     ]
    }
   ],
   "source": [
    "!pip install tqdm"
   ]
  },
  {
   "cell_type": "code",
   "execution_count": 68,
   "id": "83e78bb7-40cd-4aae-b7f3-a0194b75a823",
   "metadata": {},
   "outputs": [
    {
     "name": "stdout",
     "output_type": "stream",
     "text": [
      "Requirement already satisfied: imbalanced-learn in f:\\se\\miniconda3\\envs\\audio_classification\\lib\\site-packages (0.12.4)\n",
      "Requirement already satisfied: numpy>=1.17.3 in f:\\se\\miniconda3\\envs\\audio_classification\\lib\\site-packages (from imbalanced-learn) (1.26.4)\n",
      "Requirement already satisfied: scipy>=1.5.0 in f:\\se\\miniconda3\\envs\\audio_classification\\lib\\site-packages (from imbalanced-learn) (1.14.1)\n",
      "Requirement already satisfied: scikit-learn>=1.0.2 in f:\\se\\miniconda3\\envs\\audio_classification\\lib\\site-packages (from imbalanced-learn) (1.5.2)\n",
      "Requirement already satisfied: joblib>=1.1.1 in f:\\se\\miniconda3\\envs\\audio_classification\\lib\\site-packages (from imbalanced-learn) (1.4.2)\n",
      "Requirement already satisfied: threadpoolctl>=2.0.0 in f:\\se\\miniconda3\\envs\\audio_classification\\lib\\site-packages (from imbalanced-learn) (3.5.0)\n"
     ]
    }
   ],
   "source": [
    "!pip install imbalanced-learn"
   ]
  },
  {
   "cell_type": "code",
   "execution_count": 69,
   "id": "e702934a-9a29-4ec0-a84c-3200847d39a9",
   "metadata": {},
   "outputs": [
    {
     "name": "stdout",
     "output_type": "stream",
     "text": [
      "Requirement already satisfied: keras-tuner in f:\\se\\miniconda3\\envs\\audio_classification\\lib\\site-packages (1.4.7)\n",
      "Requirement already satisfied: keras in f:\\se\\miniconda3\\envs\\audio_classification\\lib\\site-packages (from keras-tuner) (3.6.0)\n",
      "Requirement already satisfied: packaging in f:\\se\\miniconda3\\envs\\audio_classification\\lib\\site-packages (from keras-tuner) (24.1)\n",
      "Requirement already satisfied: requests in f:\\se\\miniconda3\\envs\\audio_classification\\lib\\site-packages (from keras-tuner) (2.32.3)\n",
      "Requirement already satisfied: kt-legacy in f:\\se\\miniconda3\\envs\\audio_classification\\lib\\site-packages (from keras-tuner) (1.0.5)\n",
      "Requirement already satisfied: absl-py in f:\\se\\miniconda3\\envs\\audio_classification\\lib\\site-packages (from keras->keras-tuner) (2.1.0)\n",
      "Requirement already satisfied: numpy in f:\\se\\miniconda3\\envs\\audio_classification\\lib\\site-packages (from keras->keras-tuner) (1.26.4)\n",
      "Requirement already satisfied: rich in f:\\se\\miniconda3\\envs\\audio_classification\\lib\\site-packages (from keras->keras-tuner) (13.9.2)\n",
      "Requirement already satisfied: namex in f:\\se\\miniconda3\\envs\\audio_classification\\lib\\site-packages (from keras->keras-tuner) (0.0.8)\n",
      "Requirement already satisfied: h5py in f:\\se\\miniconda3\\envs\\audio_classification\\lib\\site-packages (from keras->keras-tuner) (3.12.1)\n",
      "Requirement already satisfied: optree in f:\\se\\miniconda3\\envs\\audio_classification\\lib\\site-packages (from keras->keras-tuner) (0.13.0)\n",
      "Requirement already satisfied: ml-dtypes in f:\\se\\miniconda3\\envs\\audio_classification\\lib\\site-packages (from keras->keras-tuner) (0.4.1)\n",
      "Requirement already satisfied: charset-normalizer<4,>=2 in f:\\se\\miniconda3\\envs\\audio_classification\\lib\\site-packages (from requests->keras-tuner) (3.3.2)\n",
      "Requirement already satisfied: idna<4,>=2.5 in f:\\se\\miniconda3\\envs\\audio_classification\\lib\\site-packages (from requests->keras-tuner) (3.7)\n",
      "Requirement already satisfied: urllib3<3,>=1.21.1 in f:\\se\\miniconda3\\envs\\audio_classification\\lib\\site-packages (from requests->keras-tuner) (2.2.3)\n",
      "Requirement already satisfied: certifi>=2017.4.17 in f:\\se\\miniconda3\\envs\\audio_classification\\lib\\site-packages (from requests->keras-tuner) (2024.8.30)\n",
      "Requirement already satisfied: typing-extensions>=4.5.0 in f:\\se\\miniconda3\\envs\\audio_classification\\lib\\site-packages (from optree->keras->keras-tuner) (4.11.0)\n",
      "Requirement already satisfied: markdown-it-py>=2.2.0 in f:\\se\\miniconda3\\envs\\audio_classification\\lib\\site-packages (from rich->keras->keras-tuner) (3.0.0)\n",
      "Requirement already satisfied: pygments<3.0.0,>=2.13.0 in f:\\se\\miniconda3\\envs\\audio_classification\\lib\\site-packages (from rich->keras->keras-tuner) (2.15.1)\n",
      "Requirement already satisfied: mdurl~=0.1 in f:\\se\\miniconda3\\envs\\audio_classification\\lib\\site-packages (from markdown-it-py>=2.2.0->rich->keras->keras-tuner) (0.1.2)\n"
     ]
    }
   ],
   "source": [
    "!pip install keras-tuner"
   ]
  },
  {
   "cell_type": "markdown",
   "id": "e7a94e5c-ba46-4e68-a078-97ba003f95b9",
   "metadata": {},
   "source": [
    "## Importing Required Dependencies"
   ]
  },
  {
   "cell_type": "code",
   "execution_count": 156,
   "id": "34bd5a44-9382-4fd5-8864-770e83bbeb15",
   "metadata": {},
   "outputs": [],
   "source": [
    "# Standard Libraries\n",
    "import os\n",
    "from collections import Counter\n",
    "\n",
    "# Data Handling Libraries\n",
    "import numpy as np\n",
    "import pandas as pd\n",
    "import joblib\n",
    "\n",
    "# Audio Processing Libraries\n",
    "import librosa\n",
    "\n",
    "# Machine Learning Libraries\n",
    "from sklearn.model_selection import train_test_split\n",
    "from sklearn.preprocessing import LabelEncoder, StandardScaler\n",
    "from sklearn.metrics import confusion_matrix\n",
    "from imblearn.over_sampling import SMOTE\n",
    "\n",
    "# Deep Learning Libraries (Tensorflow/Keras)\n",
    "from keras.models import Sequential\n",
    "from keras.layers import Input, Dense, Dropout, Activation\n",
    "from keras.utils import to_categorical\n",
    "import keras_tuner as kt\n",
    "from tensorflow.keras.callbacks import EarlyStopping\n",
    "from tensorflow.keras.models import load_model\n",
    "\n",
    "# Visualization Libraries\n",
    "import matplotlib.pyplot as plt\n",
    "import seaborn as sns\n",
    "from tqdm import tqdm"
   ]
  },
  {
   "cell_type": "markdown",
   "id": "e38be11f-1b52-4793-afa6-595d930d81a4",
   "metadata": {},
   "source": [
    "## Dataset Preparation"
   ]
  },
  {
   "cell_type": "markdown",
   "id": "7e799234-ae46-4127-b699-890fe26add12",
   "metadata": {},
   "source": [
    "### Load the Dataset"
   ]
  },
  {
   "cell_type": "code",
   "execution_count": 136,
   "id": "37b905e7-69b0-458e-aeab-09dbecd54065",
   "metadata": {},
   "outputs": [
    {
     "data": {
      "text/html": [
       "<div>\n",
       "<style scoped>\n",
       "    .dataframe tbody tr th:only-of-type {\n",
       "        vertical-align: middle;\n",
       "    }\n",
       "\n",
       "    .dataframe tbody tr th {\n",
       "        vertical-align: top;\n",
       "    }\n",
       "\n",
       "    .dataframe thead th {\n",
       "        text-align: right;\n",
       "    }\n",
       "</style>\n",
       "<table border=\"1\" class=\"dataframe\">\n",
       "  <thead>\n",
       "    <tr style=\"text-align: right;\">\n",
       "      <th></th>\n",
       "      <th>slice_file_name</th>\n",
       "      <th>fsID</th>\n",
       "      <th>start</th>\n",
       "      <th>end</th>\n",
       "      <th>salience</th>\n",
       "      <th>fold</th>\n",
       "      <th>classID</th>\n",
       "      <th>class</th>\n",
       "    </tr>\n",
       "  </thead>\n",
       "  <tbody>\n",
       "    <tr>\n",
       "      <th>0</th>\n",
       "      <td>100032-3-0-0.wav</td>\n",
       "      <td>100032</td>\n",
       "      <td>0.000000</td>\n",
       "      <td>0.317551</td>\n",
       "      <td>1</td>\n",
       "      <td>5</td>\n",
       "      <td>3</td>\n",
       "      <td>dog_bark</td>\n",
       "    </tr>\n",
       "    <tr>\n",
       "      <th>1</th>\n",
       "      <td>100263-2-0-117.wav</td>\n",
       "      <td>100263</td>\n",
       "      <td>58.500000</td>\n",
       "      <td>62.500000</td>\n",
       "      <td>1</td>\n",
       "      <td>5</td>\n",
       "      <td>2</td>\n",
       "      <td>children_playing</td>\n",
       "    </tr>\n",
       "    <tr>\n",
       "      <th>2</th>\n",
       "      <td>100263-2-0-121.wav</td>\n",
       "      <td>100263</td>\n",
       "      <td>60.500000</td>\n",
       "      <td>64.500000</td>\n",
       "      <td>1</td>\n",
       "      <td>5</td>\n",
       "      <td>2</td>\n",
       "      <td>children_playing</td>\n",
       "    </tr>\n",
       "    <tr>\n",
       "      <th>3</th>\n",
       "      <td>100263-2-0-126.wav</td>\n",
       "      <td>100263</td>\n",
       "      <td>63.000000</td>\n",
       "      <td>67.000000</td>\n",
       "      <td>1</td>\n",
       "      <td>5</td>\n",
       "      <td>2</td>\n",
       "      <td>children_playing</td>\n",
       "    </tr>\n",
       "    <tr>\n",
       "      <th>4</th>\n",
       "      <td>100263-2-0-137.wav</td>\n",
       "      <td>100263</td>\n",
       "      <td>68.500000</td>\n",
       "      <td>72.500000</td>\n",
       "      <td>1</td>\n",
       "      <td>5</td>\n",
       "      <td>2</td>\n",
       "      <td>children_playing</td>\n",
       "    </tr>\n",
       "    <tr>\n",
       "      <th>...</th>\n",
       "      <td>...</td>\n",
       "      <td>...</td>\n",
       "      <td>...</td>\n",
       "      <td>...</td>\n",
       "      <td>...</td>\n",
       "      <td>...</td>\n",
       "      <td>...</td>\n",
       "      <td>...</td>\n",
       "    </tr>\n",
       "    <tr>\n",
       "      <th>8727</th>\n",
       "      <td>99812-1-2-0.wav</td>\n",
       "      <td>99812</td>\n",
       "      <td>159.522205</td>\n",
       "      <td>163.522205</td>\n",
       "      <td>2</td>\n",
       "      <td>7</td>\n",
       "      <td>1</td>\n",
       "      <td>car_horn</td>\n",
       "    </tr>\n",
       "    <tr>\n",
       "      <th>8728</th>\n",
       "      <td>99812-1-3-0.wav</td>\n",
       "      <td>99812</td>\n",
       "      <td>181.142431</td>\n",
       "      <td>183.284976</td>\n",
       "      <td>2</td>\n",
       "      <td>7</td>\n",
       "      <td>1</td>\n",
       "      <td>car_horn</td>\n",
       "    </tr>\n",
       "    <tr>\n",
       "      <th>8729</th>\n",
       "      <td>99812-1-4-0.wav</td>\n",
       "      <td>99812</td>\n",
       "      <td>242.691902</td>\n",
       "      <td>246.197885</td>\n",
       "      <td>2</td>\n",
       "      <td>7</td>\n",
       "      <td>1</td>\n",
       "      <td>car_horn</td>\n",
       "    </tr>\n",
       "    <tr>\n",
       "      <th>8730</th>\n",
       "      <td>99812-1-5-0.wav</td>\n",
       "      <td>99812</td>\n",
       "      <td>253.209850</td>\n",
       "      <td>255.741948</td>\n",
       "      <td>2</td>\n",
       "      <td>7</td>\n",
       "      <td>1</td>\n",
       "      <td>car_horn</td>\n",
       "    </tr>\n",
       "    <tr>\n",
       "      <th>8731</th>\n",
       "      <td>99812-1-6-0.wav</td>\n",
       "      <td>99812</td>\n",
       "      <td>332.289233</td>\n",
       "      <td>334.821332</td>\n",
       "      <td>2</td>\n",
       "      <td>7</td>\n",
       "      <td>1</td>\n",
       "      <td>car_horn</td>\n",
       "    </tr>\n",
       "  </tbody>\n",
       "</table>\n",
       "<p>8732 rows × 8 columns</p>\n",
       "</div>"
      ],
      "text/plain": [
       "         slice_file_name    fsID       start         end  salience  fold  \\\n",
       "0       100032-3-0-0.wav  100032    0.000000    0.317551         1     5   \n",
       "1     100263-2-0-117.wav  100263   58.500000   62.500000         1     5   \n",
       "2     100263-2-0-121.wav  100263   60.500000   64.500000         1     5   \n",
       "3     100263-2-0-126.wav  100263   63.000000   67.000000         1     5   \n",
       "4     100263-2-0-137.wav  100263   68.500000   72.500000         1     5   \n",
       "...                  ...     ...         ...         ...       ...   ...   \n",
       "8727     99812-1-2-0.wav   99812  159.522205  163.522205         2     7   \n",
       "8728     99812-1-3-0.wav   99812  181.142431  183.284976         2     7   \n",
       "8729     99812-1-4-0.wav   99812  242.691902  246.197885         2     7   \n",
       "8730     99812-1-5-0.wav   99812  253.209850  255.741948         2     7   \n",
       "8731     99812-1-6-0.wav   99812  332.289233  334.821332         2     7   \n",
       "\n",
       "      classID             class  \n",
       "0           3          dog_bark  \n",
       "1           2  children_playing  \n",
       "2           2  children_playing  \n",
       "3           2  children_playing  \n",
       "4           2  children_playing  \n",
       "...       ...               ...  \n",
       "8727        1          car_horn  \n",
       "8728        1          car_horn  \n",
       "8729        1          car_horn  \n",
       "8730        1          car_horn  \n",
       "8731        1          car_horn  \n",
       "\n",
       "[8732 rows x 8 columns]"
      ]
     },
     "execution_count": 136,
     "metadata": {},
     "output_type": "execute_result"
    }
   ],
   "source": [
    "metadata = pd.read_csv('../Data/UrbanSound8K.csv')\n",
    "metadata"
   ]
  },
  {
   "cell_type": "markdown",
   "id": "e5b45541-bf0f-43d4-839e-46b469090f2a",
   "metadata": {},
   "source": [
    "### Feature Extraction"
   ]
  },
  {
   "cell_type": "code",
   "execution_count": 137,
   "id": "6ea5b266-d204-40cf-8b0d-b1cfbe32c9c5",
   "metadata": {},
   "outputs": [],
   "source": [
    "def extract_features(file_name):\n",
    "    try:\n",
    "        audio, sample_rate = librosa.load(file_name, sr=None)\n",
    "        mfccs = librosa.feature.mfcc(y=audio, sr=sample_rate, n_mfcc=40)\n",
    "        mfccs_scaled = np.mean(mfccs.T, axis=0)\n",
    "    except Exception as e:\n",
    "        print(f\"Error encountered while parsing file: {file_name}\")\n",
    "        return None\n",
    "    return mfccs_scaled"
   ]
  },
  {
   "cell_type": "code",
   "execution_count": 138,
   "id": "46796685-919e-4b9a-846a-5a26c21cdf6e",
   "metadata": {},
   "outputs": [],
   "source": [
    "audio_dataset_path = r'F:\\\\SE\\\\SLIIT\\\\Y04S01\\\\Deep Learning\\\\Assignments\\\\DL\\\\Data'"
   ]
  },
  {
   "cell_type": "code",
   "execution_count": 139,
   "id": "58d923e5-9914-4e01-ac59-5fc823f14535",
   "metadata": {},
   "outputs": [],
   "source": [
    "features = []\n",
    "labels = []"
   ]
  },
  {
   "cell_type": "code",
   "execution_count": 13,
   "id": "5b0e4605-3b7d-4a39-9812-40fe4b6b5685",
   "metadata": {},
   "outputs": [
    {
     "name": "stderr",
     "output_type": "stream",
     "text": [
      " 33%|█████████████████████████▍                                                    | 2849/8732 [02:41<03:58, 24.71it/s]F:\\SE\\miniconda3\\envs\\audio_classification\\Lib\\site-packages\\librosa\\feature\\spectral.py:2143: UserWarning: Empty filters detected in mel frequency basis. Some channels will produce empty responses. Try increasing your sampling rate (and fmax) or reducing n_mels.\n",
      "  mel_basis = filters.mel(sr=sr, n_fft=n_fft, **kwargs)\n",
      "100%|██████████████████████████████████████████████████████████████████████████████| 8732/8732 [07:34<00:00, 19.22it/s]\n"
     ]
    }
   ],
   "source": [
    "for index_num,row in tqdm(metadata.iterrows(), total=metadata.shape[0]):\n",
    "    file_name = os.path.join(os.path.abspath(audio_dataset_path),'fold'+str(row[\"fold\"])+'/',str(row[\"slice_file_name\"]))\n",
    "    final_class_labels=row[\"class\"]\n",
    "    data=extract_features(file_name)\n",
    "    features.append(data)\n",
    "    labels.append(final_class_labels)"
   ]
  },
  {
   "cell_type": "code",
   "execution_count": 17,
   "id": "f5655c4d-82ff-443a-bc1b-33d6e87a1cf6",
   "metadata": {},
   "outputs": [],
   "source": [
    "df_features = pd.DataFrame(features)\n",
    "df_labels = pd.DataFrame(labels, columns=['label'])\n",
    "\n",
    "df_extracted_features = pd.concat([df_features, df_labels], axis=1)\n",
    "\n",
    "df_extracted_features.to_csv('./audio_features.csv', index=False)"
   ]
  },
  {
   "cell_type": "markdown",
   "id": "842a29b3-46a6-4c77-b84b-69a2a23fc834",
   "metadata": {},
   "source": [
    "###  Load and Prepare Data"
   ]
  },
  {
   "cell_type": "code",
   "execution_count": 140,
   "id": "0700f370-eab8-4a07-a065-60c7672c5990",
   "metadata": {},
   "outputs": [
    {
     "data": {
      "text/html": [
       "<div>\n",
       "<style scoped>\n",
       "    .dataframe tbody tr th:only-of-type {\n",
       "        vertical-align: middle;\n",
       "    }\n",
       "\n",
       "    .dataframe tbody tr th {\n",
       "        vertical-align: top;\n",
       "    }\n",
       "\n",
       "    .dataframe thead th {\n",
       "        text-align: right;\n",
       "    }\n",
       "</style>\n",
       "<table border=\"1\" class=\"dataframe\">\n",
       "  <thead>\n",
       "    <tr style=\"text-align: right;\">\n",
       "      <th></th>\n",
       "      <th>0</th>\n",
       "      <th>1</th>\n",
       "      <th>2</th>\n",
       "      <th>3</th>\n",
       "      <th>4</th>\n",
       "      <th>5</th>\n",
       "      <th>6</th>\n",
       "      <th>7</th>\n",
       "      <th>8</th>\n",
       "      <th>9</th>\n",
       "      <th>...</th>\n",
       "      <th>31</th>\n",
       "      <th>32</th>\n",
       "      <th>33</th>\n",
       "      <th>34</th>\n",
       "      <th>35</th>\n",
       "      <th>36</th>\n",
       "      <th>37</th>\n",
       "      <th>38</th>\n",
       "      <th>39</th>\n",
       "      <th>label</th>\n",
       "    </tr>\n",
       "  </thead>\n",
       "  <tbody>\n",
       "    <tr>\n",
       "      <th>0</th>\n",
       "      <td>-275.91843</td>\n",
       "      <td>119.49280</td>\n",
       "      <td>-98.211780</td>\n",
       "      <td>-66.515140</td>\n",
       "      <td>-42.606045</td>\n",
       "      <td>0.505065</td>\n",
       "      <td>-28.330938</td>\n",
       "      <td>-5.746867</td>\n",
       "      <td>9.992785</td>\n",
       "      <td>4.795412</td>\n",
       "      <td>...</td>\n",
       "      <td>-3.562049</td>\n",
       "      <td>1.710327</td>\n",
       "      <td>1.032513</td>\n",
       "      <td>-4.748238</td>\n",
       "      <td>-4.013623</td>\n",
       "      <td>0.116839</td>\n",
       "      <td>6.310030</td>\n",
       "      <td>1.492271</td>\n",
       "      <td>1.462320</td>\n",
       "      <td>dog_bark</td>\n",
       "    </tr>\n",
       "    <tr>\n",
       "      <th>1</th>\n",
       "      <td>-500.90840</td>\n",
       "      <td>185.10641</td>\n",
       "      <td>-86.532820</td>\n",
       "      <td>49.858850</td>\n",
       "      <td>9.230822</td>\n",
       "      <td>22.548956</td>\n",
       "      <td>-3.567175</td>\n",
       "      <td>12.220054</td>\n",
       "      <td>7.720082</td>\n",
       "      <td>-6.460392</td>\n",
       "      <td>...</td>\n",
       "      <td>-1.856354</td>\n",
       "      <td>0.372866</td>\n",
       "      <td>-3.269187</td>\n",
       "      <td>-1.969773</td>\n",
       "      <td>-1.598099</td>\n",
       "      <td>0.562077</td>\n",
       "      <td>0.463689</td>\n",
       "      <td>-0.359663</td>\n",
       "      <td>0.909601</td>\n",
       "      <td>children_playing</td>\n",
       "    </tr>\n",
       "    <tr>\n",
       "      <th>2</th>\n",
       "      <td>-531.19530</td>\n",
       "      <td>186.93994</td>\n",
       "      <td>-70.349160</td>\n",
       "      <td>40.429245</td>\n",
       "      <td>9.121048</td>\n",
       "      <td>18.398588</td>\n",
       "      <td>6.283283</td>\n",
       "      <td>15.504061</td>\n",
       "      <td>9.613501</td>\n",
       "      <td>-7.113610</td>\n",
       "      <td>...</td>\n",
       "      <td>-0.291961</td>\n",
       "      <td>0.287639</td>\n",
       "      <td>-3.358315</td>\n",
       "      <td>1.434627</td>\n",
       "      <td>-0.975246</td>\n",
       "      <td>2.386079</td>\n",
       "      <td>-0.347919</td>\n",
       "      <td>-3.844178</td>\n",
       "      <td>-0.731597</td>\n",
       "      <td>children_playing</td>\n",
       "    </tr>\n",
       "    <tr>\n",
       "      <th>3</th>\n",
       "      <td>-476.78442</td>\n",
       "      <td>160.33328</td>\n",
       "      <td>-62.952843</td>\n",
       "      <td>50.751170</td>\n",
       "      <td>-0.174330</td>\n",
       "      <td>32.791600</td>\n",
       "      <td>-17.469800</td>\n",
       "      <td>24.755478</td>\n",
       "      <td>-3.847784</td>\n",
       "      <td>-1.761176</td>\n",
       "      <td>...</td>\n",
       "      <td>-3.374202</td>\n",
       "      <td>-1.012279</td>\n",
       "      <td>-1.025993</td>\n",
       "      <td>-3.666372</td>\n",
       "      <td>-0.071535</td>\n",
       "      <td>-5.693183</td>\n",
       "      <td>1.876606</td>\n",
       "      <td>-1.428173</td>\n",
       "      <td>3.510686</td>\n",
       "      <td>children_playing</td>\n",
       "    </tr>\n",
       "    <tr>\n",
       "      <th>4</th>\n",
       "      <td>-521.24470</td>\n",
       "      <td>185.39265</td>\n",
       "      <td>-81.950470</td>\n",
       "      <td>46.473550</td>\n",
       "      <td>11.872088</td>\n",
       "      <td>23.491444</td>\n",
       "      <td>4.261836</td>\n",
       "      <td>13.637699</td>\n",
       "      <td>6.093238</td>\n",
       "      <td>-2.813453</td>\n",
       "      <td>...</td>\n",
       "      <td>-0.331206</td>\n",
       "      <td>2.441440</td>\n",
       "      <td>0.449653</td>\n",
       "      <td>1.609697</td>\n",
       "      <td>-2.679410</td>\n",
       "      <td>-0.054824</td>\n",
       "      <td>-2.050368</td>\n",
       "      <td>-1.784189</td>\n",
       "      <td>2.869685</td>\n",
       "      <td>children_playing</td>\n",
       "    </tr>\n",
       "    <tr>\n",
       "      <th>...</th>\n",
       "      <td>...</td>\n",
       "      <td>...</td>\n",
       "      <td>...</td>\n",
       "      <td>...</td>\n",
       "      <td>...</td>\n",
       "      <td>...</td>\n",
       "      <td>...</td>\n",
       "      <td>...</td>\n",
       "      <td>...</td>\n",
       "      <td>...</td>\n",
       "      <td>...</td>\n",
       "      <td>...</td>\n",
       "      <td>...</td>\n",
       "      <td>...</td>\n",
       "      <td>...</td>\n",
       "      <td>...</td>\n",
       "      <td>...</td>\n",
       "      <td>...</td>\n",
       "      <td>...</td>\n",
       "      <td>...</td>\n",
       "      <td>...</td>\n",
       "    </tr>\n",
       "    <tr>\n",
       "      <th>8727</th>\n",
       "      <td>-466.63190</td>\n",
       "      <td>193.29425</td>\n",
       "      <td>-63.960163</td>\n",
       "      <td>30.475616</td>\n",
       "      <td>-9.339019</td>\n",
       "      <td>23.975900</td>\n",
       "      <td>-14.627114</td>\n",
       "      <td>27.502554</td>\n",
       "      <td>3.764655</td>\n",
       "      <td>4.351699</td>\n",
       "      <td>...</td>\n",
       "      <td>-5.908267</td>\n",
       "      <td>-0.086640</td>\n",
       "      <td>8.064040</td>\n",
       "      <td>4.842944</td>\n",
       "      <td>-1.370681</td>\n",
       "      <td>-8.400169</td>\n",
       "      <td>1.039638</td>\n",
       "      <td>2.128600</td>\n",
       "      <td>4.718456</td>\n",
       "      <td>car_horn</td>\n",
       "    </tr>\n",
       "    <tr>\n",
       "      <th>8728</th>\n",
       "      <td>-396.77737</td>\n",
       "      <td>134.76804</td>\n",
       "      <td>-64.882770</td>\n",
       "      <td>42.310800</td>\n",
       "      <td>-1.868765</td>\n",
       "      <td>0.876937</td>\n",
       "      <td>-36.872646</td>\n",
       "      <td>42.781456</td>\n",
       "      <td>-9.984668</td>\n",
       "      <td>-5.920937</td>\n",
       "      <td>...</td>\n",
       "      <td>1.580030</td>\n",
       "      <td>-4.441753</td>\n",
       "      <td>3.187478</td>\n",
       "      <td>-3.398616</td>\n",
       "      <td>1.737199</td>\n",
       "      <td>3.312875</td>\n",
       "      <td>2.611360</td>\n",
       "      <td>0.158990</td>\n",
       "      <td>0.844661</td>\n",
       "      <td>car_horn</td>\n",
       "    </tr>\n",
       "    <tr>\n",
       "      <th>8729</th>\n",
       "      <td>-362.70322</td>\n",
       "      <td>165.08179</td>\n",
       "      <td>-60.780693</td>\n",
       "      <td>30.996470</td>\n",
       "      <td>-9.655406</td>\n",
       "      <td>23.180807</td>\n",
       "      <td>-18.668148</td>\n",
       "      <td>27.321250</td>\n",
       "      <td>-7.465636</td>\n",
       "      <td>7.173614</td>\n",
       "      <td>...</td>\n",
       "      <td>2.579410</td>\n",
       "      <td>-2.790286</td>\n",
       "      <td>2.743992</td>\n",
       "      <td>-4.914998</td>\n",
       "      <td>-4.034190</td>\n",
       "      <td>-5.768603</td>\n",
       "      <td>-1.840645</td>\n",
       "      <td>2.607495</td>\n",
       "      <td>3.903050</td>\n",
       "      <td>car_horn</td>\n",
       "    </tr>\n",
       "    <tr>\n",
       "      <th>8730</th>\n",
       "      <td>-404.62810</td>\n",
       "      <td>178.50473</td>\n",
       "      <td>-63.615627</td>\n",
       "      <td>25.944529</td>\n",
       "      <td>-10.428956</td>\n",
       "      <td>12.489921</td>\n",
       "      <td>-24.788843</td>\n",
       "      <td>35.468410</td>\n",
       "      <td>-3.097389</td>\n",
       "      <td>0.915603</td>\n",
       "      <td>...</td>\n",
       "      <td>-0.693243</td>\n",
       "      <td>-2.208296</td>\n",
       "      <td>4.955165</td>\n",
       "      <td>-0.435411</td>\n",
       "      <td>-1.857112</td>\n",
       "      <td>-7.561952</td>\n",
       "      <td>-0.168980</td>\n",
       "      <td>3.911847</td>\n",
       "      <td>4.805305</td>\n",
       "      <td>car_horn</td>\n",
       "    </tr>\n",
       "    <tr>\n",
       "      <th>8731</th>\n",
       "      <td>-369.63705</td>\n",
       "      <td>147.90456</td>\n",
       "      <td>-63.150425</td>\n",
       "      <td>47.780520</td>\n",
       "      <td>-9.488717</td>\n",
       "      <td>33.391727</td>\n",
       "      <td>-30.122765</td>\n",
       "      <td>30.130272</td>\n",
       "      <td>-9.736057</td>\n",
       "      <td>14.229150</td>\n",
       "      <td>...</td>\n",
       "      <td>-3.804771</td>\n",
       "      <td>-11.533295</td>\n",
       "      <td>6.525465</td>\n",
       "      <td>1.719671</td>\n",
       "      <td>2.567312</td>\n",
       "      <td>-9.492548</td>\n",
       "      <td>-6.346464</td>\n",
       "      <td>1.464323</td>\n",
       "      <td>5.358858</td>\n",
       "      <td>car_horn</td>\n",
       "    </tr>\n",
       "  </tbody>\n",
       "</table>\n",
       "<p>8732 rows × 41 columns</p>\n",
       "</div>"
      ],
      "text/plain": [
       "              0          1          2          3          4          5  \\\n",
       "0    -275.91843  119.49280 -98.211780 -66.515140 -42.606045   0.505065   \n",
       "1    -500.90840  185.10641 -86.532820  49.858850   9.230822  22.548956   \n",
       "2    -531.19530  186.93994 -70.349160  40.429245   9.121048  18.398588   \n",
       "3    -476.78442  160.33328 -62.952843  50.751170  -0.174330  32.791600   \n",
       "4    -521.24470  185.39265 -81.950470  46.473550  11.872088  23.491444   \n",
       "...         ...        ...        ...        ...        ...        ...   \n",
       "8727 -466.63190  193.29425 -63.960163  30.475616  -9.339019  23.975900   \n",
       "8728 -396.77737  134.76804 -64.882770  42.310800  -1.868765   0.876937   \n",
       "8729 -362.70322  165.08179 -60.780693  30.996470  -9.655406  23.180807   \n",
       "8730 -404.62810  178.50473 -63.615627  25.944529 -10.428956  12.489921   \n",
       "8731 -369.63705  147.90456 -63.150425  47.780520  -9.488717  33.391727   \n",
       "\n",
       "              6          7         8          9  ...        31         32  \\\n",
       "0    -28.330938  -5.746867  9.992785   4.795412  ... -3.562049   1.710327   \n",
       "1     -3.567175  12.220054  7.720082  -6.460392  ... -1.856354   0.372866   \n",
       "2      6.283283  15.504061  9.613501  -7.113610  ... -0.291961   0.287639   \n",
       "3    -17.469800  24.755478 -3.847784  -1.761176  ... -3.374202  -1.012279   \n",
       "4      4.261836  13.637699  6.093238  -2.813453  ... -0.331206   2.441440   \n",
       "...         ...        ...       ...        ...  ...       ...        ...   \n",
       "8727 -14.627114  27.502554  3.764655   4.351699  ... -5.908267  -0.086640   \n",
       "8728 -36.872646  42.781456 -9.984668  -5.920937  ...  1.580030  -4.441753   \n",
       "8729 -18.668148  27.321250 -7.465636   7.173614  ...  2.579410  -2.790286   \n",
       "8730 -24.788843  35.468410 -3.097389   0.915603  ... -0.693243  -2.208296   \n",
       "8731 -30.122765  30.130272 -9.736057  14.229150  ... -3.804771 -11.533295   \n",
       "\n",
       "            33        34        35        36        37        38        39  \\\n",
       "0     1.032513 -4.748238 -4.013623  0.116839  6.310030  1.492271  1.462320   \n",
       "1    -3.269187 -1.969773 -1.598099  0.562077  0.463689 -0.359663  0.909601   \n",
       "2    -3.358315  1.434627 -0.975246  2.386079 -0.347919 -3.844178 -0.731597   \n",
       "3    -1.025993 -3.666372 -0.071535 -5.693183  1.876606 -1.428173  3.510686   \n",
       "4     0.449653  1.609697 -2.679410 -0.054824 -2.050368 -1.784189  2.869685   \n",
       "...        ...       ...       ...       ...       ...       ...       ...   \n",
       "8727  8.064040  4.842944 -1.370681 -8.400169  1.039638  2.128600  4.718456   \n",
       "8728  3.187478 -3.398616  1.737199  3.312875  2.611360  0.158990  0.844661   \n",
       "8729  2.743992 -4.914998 -4.034190 -5.768603 -1.840645  2.607495  3.903050   \n",
       "8730  4.955165 -0.435411 -1.857112 -7.561952 -0.168980  3.911847  4.805305   \n",
       "8731  6.525465  1.719671  2.567312 -9.492548 -6.346464  1.464323  5.358858   \n",
       "\n",
       "                 label  \n",
       "0             dog_bark  \n",
       "1     children_playing  \n",
       "2     children_playing  \n",
       "3     children_playing  \n",
       "4     children_playing  \n",
       "...                ...  \n",
       "8727          car_horn  \n",
       "8728          car_horn  \n",
       "8729          car_horn  \n",
       "8730          car_horn  \n",
       "8731          car_horn  \n",
       "\n",
       "[8732 rows x 41 columns]"
      ]
     },
     "execution_count": 140,
     "metadata": {},
     "output_type": "execute_result"
    }
   ],
   "source": [
    "df_audio_features = pd.read_csv('./audio_features.csv')\n",
    "df_audio_features"
   ]
  },
  {
   "cell_type": "code",
   "execution_count": 141,
   "id": "781f4d65-ceac-4d57-9e28-b4493e7c1aae",
   "metadata": {},
   "outputs": [],
   "source": [
    "x = df_audio_features.drop(columns=['label'])\n",
    "y = df_audio_features['label'].values"
   ]
  },
  {
   "cell_type": "code",
   "execution_count": 142,
   "id": "532b08a5-c577-4ef1-ac19-44c5ce86b571",
   "metadata": {},
   "outputs": [
    {
     "data": {
      "text/plain": [
       "(8732, 40)"
      ]
     },
     "execution_count": 142,
     "metadata": {},
     "output_type": "execute_result"
    }
   ],
   "source": [
    "x.shape"
   ]
  },
  {
   "cell_type": "code",
   "execution_count": 143,
   "id": "c32a3311-7e45-4ab6-83d9-e91e7bfd2bf8",
   "metadata": {},
   "outputs": [
    {
     "data": {
      "text/html": [
       "<div>\n",
       "<style scoped>\n",
       "    .dataframe tbody tr th:only-of-type {\n",
       "        vertical-align: middle;\n",
       "    }\n",
       "\n",
       "    .dataframe tbody tr th {\n",
       "        vertical-align: top;\n",
       "    }\n",
       "\n",
       "    .dataframe thead th {\n",
       "        text-align: right;\n",
       "    }\n",
       "</style>\n",
       "<table border=\"1\" class=\"dataframe\">\n",
       "  <thead>\n",
       "    <tr style=\"text-align: right;\">\n",
       "      <th></th>\n",
       "      <th>0</th>\n",
       "      <th>1</th>\n",
       "      <th>2</th>\n",
       "      <th>3</th>\n",
       "      <th>4</th>\n",
       "      <th>5</th>\n",
       "      <th>6</th>\n",
       "      <th>7</th>\n",
       "      <th>8</th>\n",
       "      <th>9</th>\n",
       "      <th>...</th>\n",
       "      <th>30</th>\n",
       "      <th>31</th>\n",
       "      <th>32</th>\n",
       "      <th>33</th>\n",
       "      <th>34</th>\n",
       "      <th>35</th>\n",
       "      <th>36</th>\n",
       "      <th>37</th>\n",
       "      <th>38</th>\n",
       "      <th>39</th>\n",
       "    </tr>\n",
       "  </thead>\n",
       "  <tbody>\n",
       "    <tr>\n",
       "      <th>0</th>\n",
       "      <td>-275.91843</td>\n",
       "      <td>119.49280</td>\n",
       "      <td>-98.211780</td>\n",
       "      <td>-66.515140</td>\n",
       "      <td>-42.606045</td>\n",
       "      <td>0.505065</td>\n",
       "      <td>-28.330938</td>\n",
       "      <td>-5.746867</td>\n",
       "      <td>9.992785</td>\n",
       "      <td>4.795412</td>\n",
       "      <td>...</td>\n",
       "      <td>-1.271639</td>\n",
       "      <td>-3.562049</td>\n",
       "      <td>1.710327</td>\n",
       "      <td>1.032513</td>\n",
       "      <td>-4.748238</td>\n",
       "      <td>-4.013623</td>\n",
       "      <td>0.116839</td>\n",
       "      <td>6.310030</td>\n",
       "      <td>1.492271</td>\n",
       "      <td>1.462320</td>\n",
       "    </tr>\n",
       "    <tr>\n",
       "      <th>1</th>\n",
       "      <td>-500.90840</td>\n",
       "      <td>185.10641</td>\n",
       "      <td>-86.532820</td>\n",
       "      <td>49.858850</td>\n",
       "      <td>9.230822</td>\n",
       "      <td>22.548956</td>\n",
       "      <td>-3.567175</td>\n",
       "      <td>12.220054</td>\n",
       "      <td>7.720082</td>\n",
       "      <td>-6.460392</td>\n",
       "      <td>...</td>\n",
       "      <td>-1.534701</td>\n",
       "      <td>-1.856354</td>\n",
       "      <td>0.372866</td>\n",
       "      <td>-3.269187</td>\n",
       "      <td>-1.969773</td>\n",
       "      <td>-1.598099</td>\n",
       "      <td>0.562077</td>\n",
       "      <td>0.463689</td>\n",
       "      <td>-0.359663</td>\n",
       "      <td>0.909601</td>\n",
       "    </tr>\n",
       "    <tr>\n",
       "      <th>2</th>\n",
       "      <td>-531.19530</td>\n",
       "      <td>186.93994</td>\n",
       "      <td>-70.349160</td>\n",
       "      <td>40.429245</td>\n",
       "      <td>9.121048</td>\n",
       "      <td>18.398588</td>\n",
       "      <td>6.283283</td>\n",
       "      <td>15.504061</td>\n",
       "      <td>9.613501</td>\n",
       "      <td>-7.113610</td>\n",
       "      <td>...</td>\n",
       "      <td>-0.745467</td>\n",
       "      <td>-0.291961</td>\n",
       "      <td>0.287639</td>\n",
       "      <td>-3.358315</td>\n",
       "      <td>1.434627</td>\n",
       "      <td>-0.975246</td>\n",
       "      <td>2.386079</td>\n",
       "      <td>-0.347919</td>\n",
       "      <td>-3.844178</td>\n",
       "      <td>-0.731597</td>\n",
       "    </tr>\n",
       "    <tr>\n",
       "      <th>3</th>\n",
       "      <td>-476.78442</td>\n",
       "      <td>160.33328</td>\n",
       "      <td>-62.952843</td>\n",
       "      <td>50.751170</td>\n",
       "      <td>-0.174330</td>\n",
       "      <td>32.791600</td>\n",
       "      <td>-17.469800</td>\n",
       "      <td>24.755478</td>\n",
       "      <td>-3.847784</td>\n",
       "      <td>-1.761176</td>\n",
       "      <td>...</td>\n",
       "      <td>1.358762</td>\n",
       "      <td>-3.374202</td>\n",
       "      <td>-1.012279</td>\n",
       "      <td>-1.025993</td>\n",
       "      <td>-3.666372</td>\n",
       "      <td>-0.071535</td>\n",
       "      <td>-5.693183</td>\n",
       "      <td>1.876606</td>\n",
       "      <td>-1.428173</td>\n",
       "      <td>3.510686</td>\n",
       "    </tr>\n",
       "    <tr>\n",
       "      <th>4</th>\n",
       "      <td>-521.24470</td>\n",
       "      <td>185.39265</td>\n",
       "      <td>-81.950470</td>\n",
       "      <td>46.473550</td>\n",
       "      <td>11.872088</td>\n",
       "      <td>23.491444</td>\n",
       "      <td>4.261836</td>\n",
       "      <td>13.637699</td>\n",
       "      <td>6.093238</td>\n",
       "      <td>-2.813453</td>\n",
       "      <td>...</td>\n",
       "      <td>-1.044175</td>\n",
       "      <td>-0.331206</td>\n",
       "      <td>2.441440</td>\n",
       "      <td>0.449653</td>\n",
       "      <td>1.609697</td>\n",
       "      <td>-2.679410</td>\n",
       "      <td>-0.054824</td>\n",
       "      <td>-2.050368</td>\n",
       "      <td>-1.784189</td>\n",
       "      <td>2.869685</td>\n",
       "    </tr>\n",
       "    <tr>\n",
       "      <th>...</th>\n",
       "      <td>...</td>\n",
       "      <td>...</td>\n",
       "      <td>...</td>\n",
       "      <td>...</td>\n",
       "      <td>...</td>\n",
       "      <td>...</td>\n",
       "      <td>...</td>\n",
       "      <td>...</td>\n",
       "      <td>...</td>\n",
       "      <td>...</td>\n",
       "      <td>...</td>\n",
       "      <td>...</td>\n",
       "      <td>...</td>\n",
       "      <td>...</td>\n",
       "      <td>...</td>\n",
       "      <td>...</td>\n",
       "      <td>...</td>\n",
       "      <td>...</td>\n",
       "      <td>...</td>\n",
       "      <td>...</td>\n",
       "      <td>...</td>\n",
       "    </tr>\n",
       "    <tr>\n",
       "      <th>8727</th>\n",
       "      <td>-466.63190</td>\n",
       "      <td>193.29425</td>\n",
       "      <td>-63.960163</td>\n",
       "      <td>30.475616</td>\n",
       "      <td>-9.339019</td>\n",
       "      <td>23.975900</td>\n",
       "      <td>-14.627114</td>\n",
       "      <td>27.502554</td>\n",
       "      <td>3.764655</td>\n",
       "      <td>4.351699</td>\n",
       "      <td>...</td>\n",
       "      <td>-0.528295</td>\n",
       "      <td>-5.908267</td>\n",
       "      <td>-0.086640</td>\n",
       "      <td>8.064040</td>\n",
       "      <td>4.842944</td>\n",
       "      <td>-1.370681</td>\n",
       "      <td>-8.400169</td>\n",
       "      <td>1.039638</td>\n",
       "      <td>2.128600</td>\n",
       "      <td>4.718456</td>\n",
       "    </tr>\n",
       "    <tr>\n",
       "      <th>8728</th>\n",
       "      <td>-396.77737</td>\n",
       "      <td>134.76804</td>\n",
       "      <td>-64.882770</td>\n",
       "      <td>42.310800</td>\n",
       "      <td>-1.868765</td>\n",
       "      <td>0.876937</td>\n",
       "      <td>-36.872646</td>\n",
       "      <td>42.781456</td>\n",
       "      <td>-9.984668</td>\n",
       "      <td>-5.920937</td>\n",
       "      <td>...</td>\n",
       "      <td>-6.215810</td>\n",
       "      <td>1.580030</td>\n",
       "      <td>-4.441753</td>\n",
       "      <td>3.187478</td>\n",
       "      <td>-3.398616</td>\n",
       "      <td>1.737199</td>\n",
       "      <td>3.312875</td>\n",
       "      <td>2.611360</td>\n",
       "      <td>0.158990</td>\n",
       "      <td>0.844661</td>\n",
       "    </tr>\n",
       "    <tr>\n",
       "      <th>8729</th>\n",
       "      <td>-362.70322</td>\n",
       "      <td>165.08179</td>\n",
       "      <td>-60.780693</td>\n",
       "      <td>30.996470</td>\n",
       "      <td>-9.655406</td>\n",
       "      <td>23.180807</td>\n",
       "      <td>-18.668148</td>\n",
       "      <td>27.321250</td>\n",
       "      <td>-7.465636</td>\n",
       "      <td>7.173614</td>\n",
       "      <td>...</td>\n",
       "      <td>-5.558697</td>\n",
       "      <td>2.579410</td>\n",
       "      <td>-2.790286</td>\n",
       "      <td>2.743992</td>\n",
       "      <td>-4.914998</td>\n",
       "      <td>-4.034190</td>\n",
       "      <td>-5.768603</td>\n",
       "      <td>-1.840645</td>\n",
       "      <td>2.607495</td>\n",
       "      <td>3.903050</td>\n",
       "    </tr>\n",
       "    <tr>\n",
       "      <th>8730</th>\n",
       "      <td>-404.62810</td>\n",
       "      <td>178.50473</td>\n",
       "      <td>-63.615627</td>\n",
       "      <td>25.944529</td>\n",
       "      <td>-10.428956</td>\n",
       "      <td>12.489921</td>\n",
       "      <td>-24.788843</td>\n",
       "      <td>35.468410</td>\n",
       "      <td>-3.097389</td>\n",
       "      <td>0.915603</td>\n",
       "      <td>...</td>\n",
       "      <td>-0.364295</td>\n",
       "      <td>-0.693243</td>\n",
       "      <td>-2.208296</td>\n",
       "      <td>4.955165</td>\n",
       "      <td>-0.435411</td>\n",
       "      <td>-1.857112</td>\n",
       "      <td>-7.561952</td>\n",
       "      <td>-0.168980</td>\n",
       "      <td>3.911847</td>\n",
       "      <td>4.805305</td>\n",
       "    </tr>\n",
       "    <tr>\n",
       "      <th>8731</th>\n",
       "      <td>-369.63705</td>\n",
       "      <td>147.90456</td>\n",
       "      <td>-63.150425</td>\n",
       "      <td>47.780520</td>\n",
       "      <td>-9.488717</td>\n",
       "      <td>33.391727</td>\n",
       "      <td>-30.122765</td>\n",
       "      <td>30.130272</td>\n",
       "      <td>-9.736057</td>\n",
       "      <td>14.229150</td>\n",
       "      <td>...</td>\n",
       "      <td>-5.240757</td>\n",
       "      <td>-3.804771</td>\n",
       "      <td>-11.533295</td>\n",
       "      <td>6.525465</td>\n",
       "      <td>1.719671</td>\n",
       "      <td>2.567312</td>\n",
       "      <td>-9.492548</td>\n",
       "      <td>-6.346464</td>\n",
       "      <td>1.464323</td>\n",
       "      <td>5.358858</td>\n",
       "    </tr>\n",
       "  </tbody>\n",
       "</table>\n",
       "<p>8732 rows × 40 columns</p>\n",
       "</div>"
      ],
      "text/plain": [
       "              0          1          2          3          4          5  \\\n",
       "0    -275.91843  119.49280 -98.211780 -66.515140 -42.606045   0.505065   \n",
       "1    -500.90840  185.10641 -86.532820  49.858850   9.230822  22.548956   \n",
       "2    -531.19530  186.93994 -70.349160  40.429245   9.121048  18.398588   \n",
       "3    -476.78442  160.33328 -62.952843  50.751170  -0.174330  32.791600   \n",
       "4    -521.24470  185.39265 -81.950470  46.473550  11.872088  23.491444   \n",
       "...         ...        ...        ...        ...        ...        ...   \n",
       "8727 -466.63190  193.29425 -63.960163  30.475616  -9.339019  23.975900   \n",
       "8728 -396.77737  134.76804 -64.882770  42.310800  -1.868765   0.876937   \n",
       "8729 -362.70322  165.08179 -60.780693  30.996470  -9.655406  23.180807   \n",
       "8730 -404.62810  178.50473 -63.615627  25.944529 -10.428956  12.489921   \n",
       "8731 -369.63705  147.90456 -63.150425  47.780520  -9.488717  33.391727   \n",
       "\n",
       "              6          7         8          9  ...        30        31  \\\n",
       "0    -28.330938  -5.746867  9.992785   4.795412  ... -1.271639 -3.562049   \n",
       "1     -3.567175  12.220054  7.720082  -6.460392  ... -1.534701 -1.856354   \n",
       "2      6.283283  15.504061  9.613501  -7.113610  ... -0.745467 -0.291961   \n",
       "3    -17.469800  24.755478 -3.847784  -1.761176  ...  1.358762 -3.374202   \n",
       "4      4.261836  13.637699  6.093238  -2.813453  ... -1.044175 -0.331206   \n",
       "...         ...        ...       ...        ...  ...       ...       ...   \n",
       "8727 -14.627114  27.502554  3.764655   4.351699  ... -0.528295 -5.908267   \n",
       "8728 -36.872646  42.781456 -9.984668  -5.920937  ... -6.215810  1.580030   \n",
       "8729 -18.668148  27.321250 -7.465636   7.173614  ... -5.558697  2.579410   \n",
       "8730 -24.788843  35.468410 -3.097389   0.915603  ... -0.364295 -0.693243   \n",
       "8731 -30.122765  30.130272 -9.736057  14.229150  ... -5.240757 -3.804771   \n",
       "\n",
       "             32        33        34        35        36        37        38  \\\n",
       "0      1.710327  1.032513 -4.748238 -4.013623  0.116839  6.310030  1.492271   \n",
       "1      0.372866 -3.269187 -1.969773 -1.598099  0.562077  0.463689 -0.359663   \n",
       "2      0.287639 -3.358315  1.434627 -0.975246  2.386079 -0.347919 -3.844178   \n",
       "3     -1.012279 -1.025993 -3.666372 -0.071535 -5.693183  1.876606 -1.428173   \n",
       "4      2.441440  0.449653  1.609697 -2.679410 -0.054824 -2.050368 -1.784189   \n",
       "...         ...       ...       ...       ...       ...       ...       ...   \n",
       "8727  -0.086640  8.064040  4.842944 -1.370681 -8.400169  1.039638  2.128600   \n",
       "8728  -4.441753  3.187478 -3.398616  1.737199  3.312875  2.611360  0.158990   \n",
       "8729  -2.790286  2.743992 -4.914998 -4.034190 -5.768603 -1.840645  2.607495   \n",
       "8730  -2.208296  4.955165 -0.435411 -1.857112 -7.561952 -0.168980  3.911847   \n",
       "8731 -11.533295  6.525465  1.719671  2.567312 -9.492548 -6.346464  1.464323   \n",
       "\n",
       "            39  \n",
       "0     1.462320  \n",
       "1     0.909601  \n",
       "2    -0.731597  \n",
       "3     3.510686  \n",
       "4     2.869685  \n",
       "...        ...  \n",
       "8727  4.718456  \n",
       "8728  0.844661  \n",
       "8729  3.903050  \n",
       "8730  4.805305  \n",
       "8731  5.358858  \n",
       "\n",
       "[8732 rows x 40 columns]"
      ]
     },
     "execution_count": 143,
     "metadata": {},
     "output_type": "execute_result"
    }
   ],
   "source": [
    "x"
   ]
  },
  {
   "cell_type": "code",
   "execution_count": 144,
   "id": "08712892-8848-4031-911c-2454bad62b62",
   "metadata": {},
   "outputs": [
    {
     "data": {
      "text/plain": [
       "(8732,)"
      ]
     },
     "execution_count": 144,
     "metadata": {},
     "output_type": "execute_result"
    }
   ],
   "source": [
    "y.shape"
   ]
  },
  {
   "cell_type": "code",
   "execution_count": 145,
   "id": "9525e045-b2f6-48c1-90ae-cbc75e5f58d0",
   "metadata": {},
   "outputs": [
    {
     "data": {
      "text/plain": [
       "array(['dog_bark', 'children_playing', 'children_playing', ...,\n",
       "       'car_horn', 'car_horn', 'car_horn'], dtype=object)"
      ]
     },
     "execution_count": 145,
     "metadata": {},
     "output_type": "execute_result"
    }
   ],
   "source": [
    "y"
   ]
  },
  {
   "cell_type": "code",
   "execution_count": 146,
   "id": "853239e4-b5c7-448b-b251-75aec6e3002d",
   "metadata": {},
   "outputs": [
    {
     "data": {
      "text/plain": [
       "array([[0, 0, 0, ..., 0, 0, 0],\n",
       "       [0, 0, 1, ..., 0, 0, 0],\n",
       "       [0, 0, 1, ..., 0, 0, 0],\n",
       "       ...,\n",
       "       [0, 1, 0, ..., 0, 0, 0],\n",
       "       [0, 1, 0, ..., 0, 0, 0],\n",
       "       [0, 1, 0, ..., 0, 0, 0]])"
      ]
     },
     "execution_count": 146,
     "metadata": {},
     "output_type": "execute_result"
    }
   ],
   "source": [
    "y = np.array(pd.get_dummies(y, dtype=int))\n",
    "y"
   ]
  },
  {
   "cell_type": "markdown",
   "id": "7333cdea-28a5-49a2-9673-9562bff478d9",
   "metadata": {},
   "source": [
    "### Data Resampling"
   ]
  },
  {
   "cell_type": "code",
   "execution_count": 147,
   "id": "7727c22a-cf6d-49b0-a5df-2dc1d315bed0",
   "metadata": {},
   "outputs": [
    {
     "name": "stdout",
     "output_type": "stream",
     "text": [
      "Class distribution after resampling:\n",
      " Counter({3: 1000, 2: 1000, 1: 1000, 0: 1000, 9: 1000, 6: 1000, 8: 1000, 5: 1000, 7: 1000, 4: 1000})\n"
     ]
    }
   ],
   "source": [
    "smote = SMOTE(random_state=0)\n",
    "x_resampled, y_resampled = smote.fit_resample(x, y)\n",
    "\n",
    "y_resampled_labels = np.argmax(y_resampled, axis=1)\n",
    "\n",
    "counter = Counter(y_resampled_labels)\n",
    "\n",
    "print(\"Class distribution after resampling:\\n\", counter)"
   ]
  },
  {
   "cell_type": "markdown",
   "id": "6e536fc0-a1c5-4b1e-a8ac-08f2fb189de2",
   "metadata": {},
   "source": [
    "## Train-Test Split and Scaling"
   ]
  },
  {
   "cell_type": "code",
   "execution_count": 148,
   "id": "0c68b6b4-555a-4599-99c9-37627eea3fa5",
   "metadata": {},
   "outputs": [],
   "source": [
    "x_train, x_test, y_train, y_test = train_test_split(x_resampled, y_resampled, test_size=0.2, random_state=0)"
   ]
  },
  {
   "cell_type": "code",
   "execution_count": 149,
   "id": "52c1573c-5e3b-41ea-8bc2-f32644878695",
   "metadata": {},
   "outputs": [
    {
     "data": {
      "text/plain": [
       "['standard_scaler.pkl']"
      ]
     },
     "execution_count": 149,
     "metadata": {},
     "output_type": "execute_result"
    }
   ],
   "source": [
    "scaler = StandardScaler()\n",
    "\n",
    "x_train = scaler.fit_transform(x_train)\n",
    "x_test = scaler.transform(x_test)\n",
    "\n",
    "joblib.dump(scaler, 'standard_scaler.pkl')"
   ]
  },
  {
   "cell_type": "markdown",
   "id": "64c03ba9-6dfb-4f46-9bfd-722daa5dcbe9",
   "metadata": {},
   "source": [
    "## Hyperparameter Tuning"
   ]
  },
  {
   "cell_type": "markdown",
   "id": "57ce1edf-f569-4277-abe0-a6f2bb491a6e",
   "metadata": {},
   "source": [
    "### Function build_model"
   ]
  },
  {
   "cell_type": "code",
   "execution_count": 150,
   "id": "8ddc2a93-3c48-4ad7-9192-d769ed1b646b",
   "metadata": {},
   "outputs": [],
   "source": [
    "def build_model(hp):\n",
    "    model = Sequential()\n",
    "    \n",
    "    model.add(Dense(\n",
    "        units=hp.Int('units_1', min_value=128, max_value=512, step=64, default=256),\n",
    "        input_shape=(40,)\n",
    "    ))\n",
    "    model.add(Activation(hp.Choice('activation_1', values=['relu', 'tanh'], default='relu')))\n",
    "    model.add(Dropout(hp.Float('dropout_1', min_value=0.2, max_value=0.7, step=0.1, default=0.5)))\n",
    "    \n",
    "    model.add(Dense(\n",
    "        units=hp.Int('units_2', min_value=128, max_value=512, step=64, default=256)\n",
    "    ))\n",
    "    model.add(Activation(hp.Choice('activation_2', values=['relu', 'tanh'], default='relu')))\n",
    "    model.add(Dropout(hp.Float('dropout_2', min_value=0.2, max_value=0.7, step=0.1, default=0.5)))\n",
    "    \n",
    "    model.add(Dense(y_resampled.shape[1]))\n",
    "    model.add(Activation('softmax'))\n",
    "    \n",
    "    # Compile the model\n",
    "    model.compile(\n",
    "        optimizer='adam',\n",
    "        loss='categorical_crossentropy',\n",
    "        metrics=['accuracy']\n",
    "    )\n",
    "    \n",
    "    return model"
   ]
  },
  {
   "cell_type": "markdown",
   "id": "b1729852-be4b-451f-86b3-7d45feeeb34a",
   "metadata": {},
   "source": [
    "### Function for Hyperparameter Tuning"
   ]
  },
  {
   "cell_type": "code",
   "execution_count": 151,
   "id": "b1600212-e23e-4420-8935-03d9d5f80b25",
   "metadata": {},
   "outputs": [],
   "source": [
    "early_stopping = EarlyStopping(\n",
    "    monitor='val_loss',\n",
    "    patience=5,\n",
    "    restore_best_weights=True\n",
    ")"
   ]
  },
  {
   "cell_type": "code",
   "execution_count": 152,
   "id": "118e6f9f-58ef-4f08-b0f1-6fdcd2352601",
   "metadata": {},
   "outputs": [],
   "source": [
    "possible_epoch_values = [50, 100]"
   ]
  },
  {
   "cell_type": "code",
   "execution_count": 153,
   "id": "410af8c2-8122-4ea5-ab3e-aa46058f7c8c",
   "metadata": {},
   "outputs": [
    {
     "name": "stdout",
     "output_type": "stream",
     "text": [
      "Reloading Tuner from tuner_dir_hp\\ANN_Audio_Classification_50\\tuner0.json\n",
      "Reloading Tuner from tuner_dir_hp\\ANN_Audio_Classification_100\\tuner0.json\n"
     ]
    }
   ],
   "source": [
    "for epoch_count in possible_epoch_values:\n",
    "    tuner = kt.GridSearch(\n",
    "        build_model,\n",
    "        objective='val_accuracy',\n",
    "        max_trials=10,\n",
    "        executions_per_trial=2,\n",
    "        directory='tuner_dir_hp',\n",
    "        project_name=f'ANN_Audio_Classification_{epoch_count}'\n",
    "    )\n",
    "\n",
    "    history = tuner.search(x_train, y_train,\n",
    "                 epochs=epoch_count,\n",
    "                 validation_split=0.2,\n",
    "                 callbacks=[early_stopping])"
   ]
  },
  {
   "cell_type": "code",
   "execution_count": 166,
   "id": "ded951c0-16d8-4e94-92bf-61e738906d09",
   "metadata": {},
   "outputs": [
    {
     "name": "stdout",
     "output_type": "stream",
     "text": [
      "Best Fitting Hyperparameters:\n",
      "units_1: 256\n",
      "activation_1: relu\n",
      "dropout_1: 0.5\n",
      "units_2: 256\n",
      "activation_2: relu\n",
      "dropout_2: 0.5\n"
     ]
    }
   ],
   "source": [
    "best_hp = tuner.get_best_hyperparameters(num_trials=1)[0]\n",
    "print(\"Best Fitting Hyperparameters:\")\n",
    "for hp_name, hp_value in best_fitting_hyperparameters.values.items():\n",
    "    print(f\"{hp_name}: {hp_value}\")"
   ]
  },
  {
   "cell_type": "markdown",
   "id": "dcff3bdb-d6af-450b-b657-cb902ff9f137",
   "metadata": {},
   "source": [
    "## Model Building and Training"
   ]
  },
  {
   "cell_type": "markdown",
   "id": "01fcec59-ba0a-4134-9aa1-00608a260213",
   "metadata": {},
   "source": [
    "### Building the Model"
   ]
  },
  {
   "cell_type": "code",
   "execution_count": 157,
   "id": "1dde49ee-1d39-46a0-bac2-50d5d46ade8a",
   "metadata": {},
   "outputs": [],
   "source": [
    "model = Sequential()\n",
    "model.add(Input(shape=(40,)))\n",
    "\n",
    "model.add(Dense(units=best_hp.get('units_1')))\n",
    "model.add(Activation(best_hp.get('activation_1')))\n",
    "model.add(Dropout(best_hp.get('dropout_1')))\n",
    "\n",
    "model.add(Dense(units=best_hp.get('units_2')))\n",
    "model.add(Activation(best_hp.get('activation_2')))\n",
    "model.add(Dropout(best_hp.get('dropout_2')))\n",
    "\n",
    "model.add(Dense(y_resampled.shape[1]))\n",
    "model.add(Activation('softmax'))\n",
    "\n",
    "model.compile(\n",
    "    optimizer='adam',\n",
    "    loss='categorical_crossentropy',\n",
    "    metrics=['accuracy']\n",
    ")"
   ]
  },
  {
   "cell_type": "markdown",
   "id": "bc1496ef-a8f1-4926-84b7-23f2c76d028b",
   "metadata": {},
   "source": [
    "### Training the Model"
   ]
  },
  {
   "cell_type": "code",
   "execution_count": 158,
   "id": "76f2d693-edc0-443f-95d4-537885de5032",
   "metadata": {},
   "outputs": [
    {
     "name": "stdout",
     "output_type": "stream",
     "text": [
      "Epoch 1/50\n",
      "\u001b[1m200/200\u001b[0m \u001b[32m━━━━━━━━━━━━━━━━━━━━\u001b[0m\u001b[37m\u001b[0m \u001b[1m2s\u001b[0m 4ms/step - accuracy: 0.2921 - loss: 2.0126 - val_accuracy: 0.6175 - val_loss: 1.2038\n",
      "Epoch 2/50\n",
      "\u001b[1m200/200\u001b[0m \u001b[32m━━━━━━━━━━━━━━━━━━━━\u001b[0m\u001b[37m\u001b[0m \u001b[1m1s\u001b[0m 4ms/step - accuracy: 0.5567 - loss: 1.3133 - val_accuracy: 0.6994 - val_loss: 0.9365\n",
      "Epoch 3/50\n",
      "\u001b[1m200/200\u001b[0m \u001b[32m━━━━━━━━━━━━━━━━━━━━\u001b[0m\u001b[37m\u001b[0m \u001b[1m1s\u001b[0m 4ms/step - accuracy: 0.6287 - loss: 1.0964 - val_accuracy: 0.7387 - val_loss: 0.7977\n",
      "Epoch 4/50\n",
      "\u001b[1m200/200\u001b[0m \u001b[32m━━━━━━━━━━━━━━━━━━━━\u001b[0m\u001b[37m\u001b[0m \u001b[1m1s\u001b[0m 4ms/step - accuracy: 0.6846 - loss: 0.9657 - val_accuracy: 0.7694 - val_loss: 0.7153\n",
      "Epoch 5/50\n",
      "\u001b[1m200/200\u001b[0m \u001b[32m━━━━━━━━━━━━━━━━━━━━\u001b[0m\u001b[37m\u001b[0m \u001b[1m1s\u001b[0m 4ms/step - accuracy: 0.7167 - loss: 0.8590 - val_accuracy: 0.7850 - val_loss: 0.6543\n",
      "Epoch 6/50\n",
      "\u001b[1m200/200\u001b[0m \u001b[32m━━━━━━━━━━━━━━━━━━━━\u001b[0m\u001b[37m\u001b[0m \u001b[1m1s\u001b[0m 4ms/step - accuracy: 0.7336 - loss: 0.8108 - val_accuracy: 0.7919 - val_loss: 0.6248\n",
      "Epoch 7/50\n",
      "\u001b[1m200/200\u001b[0m \u001b[32m━━━━━━━━━━━━━━━━━━━━\u001b[0m\u001b[37m\u001b[0m \u001b[1m1s\u001b[0m 4ms/step - accuracy: 0.7518 - loss: 0.7479 - val_accuracy: 0.8169 - val_loss: 0.5655\n",
      "Epoch 8/50\n",
      "\u001b[1m200/200\u001b[0m \u001b[32m━━━━━━━━━━━━━━━━━━━━\u001b[0m\u001b[37m\u001b[0m \u001b[1m1s\u001b[0m 4ms/step - accuracy: 0.7725 - loss: 0.7029 - val_accuracy: 0.8338 - val_loss: 0.5339\n",
      "Epoch 9/50\n",
      "\u001b[1m200/200\u001b[0m \u001b[32m━━━━━━━━━━━━━━━━━━━━\u001b[0m\u001b[37m\u001b[0m \u001b[1m1s\u001b[0m 4ms/step - accuracy: 0.7858 - loss: 0.6399 - val_accuracy: 0.8381 - val_loss: 0.5114\n",
      "Epoch 10/50\n",
      "\u001b[1m200/200\u001b[0m \u001b[32m━━━━━━━━━━━━━━━━━━━━\u001b[0m\u001b[37m\u001b[0m \u001b[1m1s\u001b[0m 4ms/step - accuracy: 0.7863 - loss: 0.6318 - val_accuracy: 0.8425 - val_loss: 0.4848\n",
      "Epoch 11/50\n",
      "\u001b[1m200/200\u001b[0m \u001b[32m━━━━━━━━━━━━━━━━━━━━\u001b[0m\u001b[37m\u001b[0m \u001b[1m1s\u001b[0m 4ms/step - accuracy: 0.7987 - loss: 0.5869 - val_accuracy: 0.8481 - val_loss: 0.4773\n",
      "Epoch 12/50\n",
      "\u001b[1m200/200\u001b[0m \u001b[32m━━━━━━━━━━━━━━━━━━━━\u001b[0m\u001b[37m\u001b[0m \u001b[1m1s\u001b[0m 5ms/step - accuracy: 0.8181 - loss: 0.5648 - val_accuracy: 0.8544 - val_loss: 0.4448\n",
      "Epoch 13/50\n",
      "\u001b[1m200/200\u001b[0m \u001b[32m━━━━━━━━━━━━━━━━━━━━\u001b[0m\u001b[37m\u001b[0m \u001b[1m1s\u001b[0m 4ms/step - accuracy: 0.8167 - loss: 0.5460 - val_accuracy: 0.8581 - val_loss: 0.4373\n",
      "Epoch 14/50\n",
      "\u001b[1m200/200\u001b[0m \u001b[32m━━━━━━━━━━━━━━━━━━━━\u001b[0m\u001b[37m\u001b[0m \u001b[1m1s\u001b[0m 4ms/step - accuracy: 0.8191 - loss: 0.5379 - val_accuracy: 0.8606 - val_loss: 0.4272\n",
      "Epoch 15/50\n",
      "\u001b[1m200/200\u001b[0m \u001b[32m━━━━━━━━━━━━━━━━━━━━\u001b[0m\u001b[37m\u001b[0m \u001b[1m1s\u001b[0m 4ms/step - accuracy: 0.8273 - loss: 0.5243 - val_accuracy: 0.8694 - val_loss: 0.4148\n",
      "Epoch 16/50\n",
      "\u001b[1m200/200\u001b[0m \u001b[32m━━━━━━━━━━━━━━━━━━━━\u001b[0m\u001b[37m\u001b[0m \u001b[1m1s\u001b[0m 4ms/step - accuracy: 0.8386 - loss: 0.4794 - val_accuracy: 0.8819 - val_loss: 0.3849\n",
      "Epoch 17/50\n",
      "\u001b[1m200/200\u001b[0m \u001b[32m━━━━━━━━━━━━━━━━━━━━\u001b[0m\u001b[37m\u001b[0m \u001b[1m1s\u001b[0m 4ms/step - accuracy: 0.8343 - loss: 0.4994 - val_accuracy: 0.8788 - val_loss: 0.3794\n",
      "Epoch 18/50\n",
      "\u001b[1m200/200\u001b[0m \u001b[32m━━━━━━━━━━━━━━━━━━━━\u001b[0m\u001b[37m\u001b[0m \u001b[1m1s\u001b[0m 4ms/step - accuracy: 0.8412 - loss: 0.4618 - val_accuracy: 0.8831 - val_loss: 0.3643\n",
      "Epoch 19/50\n",
      "\u001b[1m200/200\u001b[0m \u001b[32m━━━━━━━━━━━━━━━━━━━━\u001b[0m\u001b[37m\u001b[0m \u001b[1m1s\u001b[0m 4ms/step - accuracy: 0.8344 - loss: 0.4714 - val_accuracy: 0.8875 - val_loss: 0.3544\n",
      "Epoch 20/50\n",
      "\u001b[1m200/200\u001b[0m \u001b[32m━━━━━━━━━━━━━━━━━━━━\u001b[0m\u001b[37m\u001b[0m \u001b[1m1s\u001b[0m 5ms/step - accuracy: 0.8478 - loss: 0.4377 - val_accuracy: 0.8919 - val_loss: 0.3463\n",
      "Epoch 21/50\n",
      "\u001b[1m200/200\u001b[0m \u001b[32m━━━━━━━━━━━━━━━━━━━━\u001b[0m\u001b[37m\u001b[0m \u001b[1m1s\u001b[0m 4ms/step - accuracy: 0.8597 - loss: 0.4246 - val_accuracy: 0.8938 - val_loss: 0.3414\n",
      "Epoch 22/50\n",
      "\u001b[1m200/200\u001b[0m \u001b[32m━━━━━━━━━━━━━━━━━━━━\u001b[0m\u001b[37m\u001b[0m \u001b[1m1s\u001b[0m 4ms/step - accuracy: 0.8605 - loss: 0.4116 - val_accuracy: 0.8900 - val_loss: 0.3423\n",
      "Epoch 23/50\n",
      "\u001b[1m200/200\u001b[0m \u001b[32m━━━━━━━━━━━━━━━━━━━━\u001b[0m\u001b[37m\u001b[0m \u001b[1m1s\u001b[0m 4ms/step - accuracy: 0.8559 - loss: 0.4167 - val_accuracy: 0.8900 - val_loss: 0.3321\n",
      "Epoch 24/50\n",
      "\u001b[1m200/200\u001b[0m \u001b[32m━━━━━━━━━━━━━━━━━━━━\u001b[0m\u001b[37m\u001b[0m \u001b[1m1s\u001b[0m 4ms/step - accuracy: 0.8680 - loss: 0.3897 - val_accuracy: 0.8956 - val_loss: 0.3245\n",
      "Epoch 25/50\n",
      "\u001b[1m200/200\u001b[0m \u001b[32m━━━━━━━━━━━━━━━━━━━━\u001b[0m\u001b[37m\u001b[0m \u001b[1m1s\u001b[0m 4ms/step - accuracy: 0.8704 - loss: 0.4032 - val_accuracy: 0.8988 - val_loss: 0.3143\n",
      "Epoch 26/50\n",
      "\u001b[1m200/200\u001b[0m \u001b[32m━━━━━━━━━━━━━━━━━━━━\u001b[0m\u001b[37m\u001b[0m \u001b[1m1s\u001b[0m 5ms/step - accuracy: 0.8726 - loss: 0.3836 - val_accuracy: 0.8956 - val_loss: 0.3211\n",
      "Epoch 27/50\n",
      "\u001b[1m200/200\u001b[0m \u001b[32m━━━━━━━━━━━━━━━━━━━━\u001b[0m\u001b[37m\u001b[0m \u001b[1m1s\u001b[0m 4ms/step - accuracy: 0.8796 - loss: 0.3611 - val_accuracy: 0.9075 - val_loss: 0.3064\n",
      "Epoch 28/50\n",
      "\u001b[1m200/200\u001b[0m \u001b[32m━━━━━━━━━━━━━━━━━━━━\u001b[0m\u001b[37m\u001b[0m \u001b[1m1s\u001b[0m 4ms/step - accuracy: 0.8811 - loss: 0.3524 - val_accuracy: 0.9019 - val_loss: 0.3062\n",
      "Epoch 29/50\n",
      "\u001b[1m200/200\u001b[0m \u001b[32m━━━━━━━━━━━━━━━━━━━━\u001b[0m\u001b[37m\u001b[0m \u001b[1m1s\u001b[0m 4ms/step - accuracy: 0.8883 - loss: 0.3368 - val_accuracy: 0.9062 - val_loss: 0.3010\n",
      "Epoch 30/50\n",
      "\u001b[1m200/200\u001b[0m \u001b[32m━━━━━━━━━━━━━━━━━━━━\u001b[0m\u001b[37m\u001b[0m \u001b[1m1s\u001b[0m 4ms/step - accuracy: 0.8759 - loss: 0.3619 - val_accuracy: 0.9094 - val_loss: 0.2957\n",
      "Epoch 31/50\n",
      "\u001b[1m200/200\u001b[0m \u001b[32m━━━━━━━━━━━━━━━━━━━━\u001b[0m\u001b[37m\u001b[0m \u001b[1m1s\u001b[0m 4ms/step - accuracy: 0.8822 - loss: 0.3431 - val_accuracy: 0.9112 - val_loss: 0.2928\n",
      "Epoch 32/50\n",
      "\u001b[1m200/200\u001b[0m \u001b[32m━━━━━━━━━━━━━━━━━━━━\u001b[0m\u001b[37m\u001b[0m \u001b[1m1s\u001b[0m 4ms/step - accuracy: 0.8855 - loss: 0.3285 - val_accuracy: 0.9081 - val_loss: 0.2856\n",
      "Epoch 33/50\n",
      "\u001b[1m200/200\u001b[0m \u001b[32m━━━━━━━━━━━━━━━━━━━━\u001b[0m\u001b[37m\u001b[0m \u001b[1m1s\u001b[0m 4ms/step - accuracy: 0.8889 - loss: 0.3299 - val_accuracy: 0.9112 - val_loss: 0.2830\n",
      "Epoch 34/50\n",
      "\u001b[1m200/200\u001b[0m \u001b[32m━━━━━━━━━━━━━━━━━━━━\u001b[0m\u001b[37m\u001b[0m \u001b[1m1s\u001b[0m 4ms/step - accuracy: 0.8872 - loss: 0.3296 - val_accuracy: 0.9050 - val_loss: 0.2933\n",
      "Epoch 35/50\n",
      "\u001b[1m200/200\u001b[0m \u001b[32m━━━━━━━━━━━━━━━━━━━━\u001b[0m\u001b[37m\u001b[0m \u001b[1m1s\u001b[0m 4ms/step - accuracy: 0.8902 - loss: 0.3142 - val_accuracy: 0.9150 - val_loss: 0.2813\n",
      "Epoch 36/50\n",
      "\u001b[1m200/200\u001b[0m \u001b[32m━━━━━━━━━━━━━━━━━━━━\u001b[0m\u001b[37m\u001b[0m \u001b[1m1s\u001b[0m 5ms/step - accuracy: 0.8984 - loss: 0.3137 - val_accuracy: 0.9125 - val_loss: 0.2851\n",
      "Epoch 37/50\n",
      "\u001b[1m200/200\u001b[0m \u001b[32m━━━━━━━━━━━━━━━━━━━━\u001b[0m\u001b[37m\u001b[0m \u001b[1m1s\u001b[0m 4ms/step - accuracy: 0.8906 - loss: 0.3202 - val_accuracy: 0.9125 - val_loss: 0.2837\n",
      "Epoch 38/50\n",
      "\u001b[1m200/200\u001b[0m \u001b[32m━━━━━━━━━━━━━━━━━━━━\u001b[0m\u001b[37m\u001b[0m \u001b[1m1s\u001b[0m 4ms/step - accuracy: 0.8912 - loss: 0.3185 - val_accuracy: 0.9194 - val_loss: 0.2816\n",
      "Epoch 39/50\n",
      "\u001b[1m200/200\u001b[0m \u001b[32m━━━━━━━━━━━━━━━━━━━━\u001b[0m\u001b[37m\u001b[0m \u001b[1m1s\u001b[0m 4ms/step - accuracy: 0.9040 - loss: 0.3005 - val_accuracy: 0.9125 - val_loss: 0.2757\n",
      "Epoch 40/50\n",
      "\u001b[1m200/200\u001b[0m \u001b[32m━━━━━━━━━━━━━━━━━━━━\u001b[0m\u001b[37m\u001b[0m \u001b[1m1s\u001b[0m 4ms/step - accuracy: 0.8974 - loss: 0.3021 - val_accuracy: 0.9244 - val_loss: 0.2640\n",
      "Epoch 41/50\n",
      "\u001b[1m200/200\u001b[0m \u001b[32m━━━━━━━━━━━━━━━━━━━━\u001b[0m\u001b[37m\u001b[0m \u001b[1m1s\u001b[0m 4ms/step - accuracy: 0.9031 - loss: 0.2903 - val_accuracy: 0.9100 - val_loss: 0.2681\n",
      "Epoch 42/50\n",
      "\u001b[1m200/200\u001b[0m \u001b[32m━━━━━━━━━━━━━━━━━━━━\u001b[0m\u001b[37m\u001b[0m \u001b[1m1s\u001b[0m 4ms/step - accuracy: 0.8965 - loss: 0.2963 - val_accuracy: 0.9175 - val_loss: 0.2638\n",
      "Epoch 43/50\n",
      "\u001b[1m200/200\u001b[0m \u001b[32m━━━━━━━━━━━━━━━━━━━━\u001b[0m\u001b[37m\u001b[0m \u001b[1m1s\u001b[0m 4ms/step - accuracy: 0.8941 - loss: 0.3125 - val_accuracy: 0.9256 - val_loss: 0.2529\n",
      "Epoch 44/50\n",
      "\u001b[1m200/200\u001b[0m \u001b[32m━━━━━━━━━━━━━━━━━━━━\u001b[0m\u001b[37m\u001b[0m \u001b[1m1s\u001b[0m 4ms/step - accuracy: 0.9006 - loss: 0.2987 - val_accuracy: 0.9200 - val_loss: 0.2595\n",
      "Epoch 45/50\n",
      "\u001b[1m200/200\u001b[0m \u001b[32m━━━━━━━━━━━━━━━━━━━━\u001b[0m\u001b[37m\u001b[0m \u001b[1m1s\u001b[0m 5ms/step - accuracy: 0.8978 - loss: 0.2895 - val_accuracy: 0.9256 - val_loss: 0.2510\n",
      "Epoch 46/50\n",
      "\u001b[1m200/200\u001b[0m \u001b[32m━━━━━━━━━━━━━━━━━━━━\u001b[0m\u001b[37m\u001b[0m \u001b[1m1s\u001b[0m 4ms/step - accuracy: 0.9043 - loss: 0.2782 - val_accuracy: 0.9194 - val_loss: 0.2592\n",
      "Epoch 47/50\n",
      "\u001b[1m200/200\u001b[0m \u001b[32m━━━━━━━━━━━━━━━━━━━━\u001b[0m\u001b[37m\u001b[0m \u001b[1m1s\u001b[0m 4ms/step - accuracy: 0.9098 - loss: 0.2707 - val_accuracy: 0.9169 - val_loss: 0.2596\n",
      "Epoch 48/50\n",
      "\u001b[1m200/200\u001b[0m \u001b[32m━━━━━━━━━━━━━━━━━━━━\u001b[0m\u001b[37m\u001b[0m \u001b[1m1s\u001b[0m 5ms/step - accuracy: 0.9069 - loss: 0.2755 - val_accuracy: 0.9212 - val_loss: 0.2506\n",
      "Epoch 49/50\n",
      "\u001b[1m200/200\u001b[0m \u001b[32m━━━━━━━━━━━━━━━━━━━━\u001b[0m\u001b[37m\u001b[0m \u001b[1m1s\u001b[0m 4ms/step - accuracy: 0.9114 - loss: 0.2736 - val_accuracy: 0.9219 - val_loss: 0.2461\n",
      "Epoch 50/50\n",
      "\u001b[1m200/200\u001b[0m \u001b[32m━━━━━━━━━━━━━━━━━━━━\u001b[0m\u001b[37m\u001b[0m \u001b[1m1s\u001b[0m 4ms/step - accuracy: 0.9062 - loss: 0.2744 - val_accuracy: 0.9219 - val_loss: 0.2514\n"
     ]
    }
   ],
   "source": [
    "early_stopping = EarlyStopping(monitor='val_loss', patience=5,\n",
    "restore_best_weights=True)\n",
    "history = model.fit(\n",
    "    x_train, y_train,\n",
    "    epochs=50,\n",
    "    validation_split=0.2,\n",
    "    callbacks=[early_stopping]\n",
    ")"
   ]
  },
  {
   "cell_type": "code",
   "execution_count": 169,
   "id": "48966ad4-c81b-4caf-873d-5eb5a46fe7f0",
   "metadata": {},
   "outputs": [],
   "source": [
    "model.save('ann_audio_model.keras')"
   ]
  },
  {
   "cell_type": "code",
   "execution_count": 170,
   "id": "b044f0ac-80ee-4b7b-a943-4aececf3094f",
   "metadata": {},
   "outputs": [
    {
     "data": {
      "text/plain": [
       "['ann_model_history.pkl']"
      ]
     },
     "execution_count": 170,
     "metadata": {},
     "output_type": "execute_result"
    }
   ],
   "source": [
    "history_dictionary = history.history\n",
    "joblib.dump(history_dictionary, 'ann_model_history.pkl')"
   ]
  },
  {
   "cell_type": "markdown",
   "id": "7b5fd4ec-a79d-41e1-b95d-88ea6667bdcf",
   "metadata": {},
   "source": [
    "## Model Evaluation"
   ]
  },
  {
   "cell_type": "markdown",
   "id": "d36dce89-678c-4ce1-b41f-83f83ceb1856",
   "metadata": {},
   "source": [
    "### Model Loss and Accuracy"
   ]
  },
  {
   "cell_type": "code",
   "execution_count": 189,
   "id": "6b311bc7-2953-4881-9e5c-0b3177bacf89",
   "metadata": {},
   "outputs": [],
   "source": [
    "load_model = load_model('ann_audio_model.keras')"
   ]
  },
  {
   "cell_type": "code",
   "execution_count": 190,
   "id": "ce90f95a-98ee-4a03-800e-617bf4d98ad6",
   "metadata": {},
   "outputs": [
    {
     "name": "stdout",
     "output_type": "stream",
     "text": [
      "Loss: 0.2455528974533081\n",
      "Test Accuracy: 0.9244999885559082\n"
     ]
    }
   ],
   "source": [
    "test_metrics = load_model.evaluate(x_test, y_test, verbose=0)\n",
    "\n",
    "print(f\"Loss: {test_metrics[0]}\")\n",
    "print(f\"Test Accuracy: {test_metrics[1]}\")"
   ]
  },
  {
   "cell_type": "markdown",
   "id": "d16bf77a-223a-496d-b10d-f608931a5e55",
   "metadata": {},
   "source": [
    "### Plotting"
   ]
  },
  {
   "cell_type": "markdown",
   "id": "f8503891-85e4-4d95-af03-8ccce4c7005e",
   "metadata": {},
   "source": [
    "#### Training History"
   ]
  },
  {
   "cell_type": "code",
   "execution_count": 172,
   "id": "c8c92c1c-e565-41e8-8c05-a4614788767d",
   "metadata": {},
   "outputs": [
    {
     "data": {
      "image/png": "[encoded data removed]",
      "text/plain": [
       "<Figure size 1200x500 with 2 Axes>"
      ]
     },
     "metadata": {},
     "output_type": "display_data"
    }
   ],
   "source": [
    "def plot_training_history(history_dictionary):\n",
    "    plt.figure(figsize=(12, 5))\n",
    "\n",
    "    plt.subplot(1, 2, 1)\n",
    "    plt.plot(history_dictionary['loss'], label='Train Loss')\n",
    "    plt.plot(history_dictionary['val_loss'], label='Validation Loss')\n",
    "    plt.title('Model Loss')\n",
    "    plt.ylabel('Loss')\n",
    "    plt.xlabel('Epoch')\n",
    "    plt.legend(loc='upper right')\n",
    "\n",
    "    plt.subplot(1, 2, 2)\n",
    "    plt.plot(history_dictionary['accuracy'], label='Train Accuracy')\n",
    "    plt.plot(history_dictionary['val_accuracy'], label='Validation Accuracy')\n",
    "    plt.title('Model Accuracy')\n",
    "    plt.ylabel('Accuracy')\n",
    "    plt.xlabel('Epoch')\n",
    "    plt.legend(loc='lower right')\n",
    "\n",
    "    plt.show()\n",
    "\n",
    "plot_training_history(history_dictionary)"
   ]
  },
  {
   "cell_type": "markdown",
   "id": "97e2ea05-e9af-41e1-a50e-f8c3a0a2cd08",
   "metadata": {},
   "source": [
    "#### Confusion Matrix"
   ]
  },
  {
   "cell_type": "code",
   "execution_count": 173,
   "id": "7f448670-0416-4793-a24f-31705feb55d3",
   "metadata": {},
   "outputs": [],
   "source": [
    "def plot_confusion_matrix(y_true, y_pred, label_encoder):\n",
    "    y_pred_labels = np.argmax(y_pred, axis=1)\n",
    "    y_true_labels = np.argmax(y_true, axis=1)\n",
    "\n",
    "    cm = confusion_matrix(y_true_labels, y_pred_labels)\n",
    "\n",
    "    plt.figure(figsize=(10, 7))\n",
    "    sns.heatmap(cm, annot=True, fmt='d', cmap='Blues',\n",
    "                xticklabels=label_encoder.classes_,\n",
    "                yticklabels=label_encoder.classes_)\n",
    "    plt.title('Confusion Matrix')\n",
    "    plt.xlabel('Predicted Label')\n",
    "    plt.ylabel('True Label')\n",
    "    plt.show()"
   ]
  },
  {
   "cell_type": "code",
   "execution_count": 191,
   "id": "3bf1b6c5-3a47-400d-b87f-dc803936aa76",
   "metadata": {},
   "outputs": [
    {
     "name": "stdout",
     "output_type": "stream",
     "text": [
      "\u001b[1m63/63\u001b[0m \u001b[32m━━━━━━━━━━━━━━━━━━━━\u001b[0m\u001b[37m\u001b[0m \u001b[1m0s\u001b[0m 3ms/step\n"
     ]
    },
    {
     "data": {
      "image/png": "[encoded data removed]",
      "text/plain": [
       "<Figure size 1000x700 with 2 Axes>"
      ]
     },
     "metadata": {},
     "output_type": "display_data"
    }
   ],
   "source": [
    "y_pred = load_model.predict(x_test)\n",
    "\n",
    "y = df_audio_features['label'].values\n",
    "label_encoder = LabelEncoder()\n",
    "y_encoded = label_encoder.fit_transform(y)\n",
    "y = to_categorical(y_encoded)\n",
    "\n",
    "plot_confusion_matrix(y_test, y_pred, label_encoder)"
   ]
  },
  {
   "cell_type": "markdown",
   "id": "f9eac4b5-c1f6-49e8-b07d-849b1ef4ccf2",
   "metadata": {},
   "source": [
    "## Test on Unseen Data"
   ]
  },
  {
   "cell_type": "code",
   "execution_count": 200,
   "id": "ccaf3d42-bedf-43a9-bac8-576b1496b2b2",
   "metadata": {},
   "outputs": [],
   "source": [
    "def test_on_unseen_data(model, audio_files, scaler, label_encoder):\n",
    "    features = []\n",
    "\n",
    "    for file_name in audio_files:\n",
    "        data = extract_features(file_name)\n",
    "        if data is not None:\n",
    "            features.append(data)\n",
    "\n",
    "    features = np.array(features)\n",
    "\n",
    "    features = features.reshape(features.shape[0], -1)\n",
    "\n",
    "    features = scaler.transform(features)\n",
    "\n",
    "    predictions = model.predict(features)\n",
    "\n",
    "    predicted_labels = label_encoder.inverse_transform(np.argmax(predictions, axis=1))\n",
    "\n",
    "    return predicted_labels"
   ]
  },
  {
   "cell_type": "code",
   "execution_count": 201,
   "id": "6328c3ba-a4df-46b5-84a3-e4d382245cd1",
   "metadata": {},
   "outputs": [
    {
     "name": "stdout",
     "output_type": "stream",
     "text": [
      "\u001b[1m1/1\u001b[0m \u001b[32m━━━━━━━━━━━━━━━━━━━━\u001b[0m\u001b[37m\u001b[0m \u001b[1m0s\u001b[0m 31ms/step\n",
      "Predicted classes for unseen audio files: ['street_music']\n"
     ]
    },
    {
     "name": "stderr",
     "output_type": "stream",
     "text": [
      "F:\\SE\\miniconda3\\envs\\audio_classification\\Lib\\site-packages\\sklearn\\base.py:493: UserWarning: X does not have valid feature names, but StandardScaler was fitted with feature names\n",
      "  warnings.warn(\n"
     ]
    }
   ],
   "source": [
    "unseen_audio_files = [r'F:\\SE\\SLIIT\\Y04S01\\Deep Learning\\Assignments\\DL\\Data\\sm.wav']\n",
    "predicted_classes = test_on_unseen_data(load_model, unseen_audio_files, scaler, label_encoder)\n",
    "\n",
    "print(\"Predicted classes for unseen audio files:\", predicted_classes)"
   ]
  }
 ],
 "metadata": {
  "kernelspec": {
   "display_name": "Python 3 (ipykernel)",
   "language": "python",
   "name": "python3"
  },
  "language_info": {
   "codemirror_mode": {
    "name": "ipython",
    "version": 3
   },
   "file_extension": ".py",
   "mimetype": "text/x-python",
   "name": "python",
   "nbconvert_exporter": "python",
   "pygments_lexer": "ipython3",
   "version": "3.12.7"
  }
 },
 "nbformat": 4,
 "nbformat_minor": 5
}
